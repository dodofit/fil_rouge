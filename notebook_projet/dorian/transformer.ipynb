{
 "cells": [
  {
   "cell_type": "code",
   "execution_count": 2,
   "metadata": {},
   "outputs": [],
   "source": [
    "from torch import nn "
   ]
  },
  {
   "cell_type": "code",
   "execution_count": null,
   "metadata": {},
   "outputs": [],
   "source": [
    "#Spatiotemporal learning 'https://arxiv.org/pdf/2109.12218.pdf'\n",
    "# Time2Vec layer"
   ]
  },
  {
   "cell_type": "code",
   "execution_count": null,
   "metadata": {},
   "outputs": [],
   "source": [
    "class TimeSeriesTransformer(object):\n",
    "    def __init__(self, nFeatures, hiddenDim1):\n",
    "        # Input layer\n",
    "        self.linear = nn.Linear(in_features= nFeatures, out_features = hiddenDim1)\n",
    "\n",
    "    def forward(self, input):\n",
    "        o = 0\n",
    "        return o"
   ]
  }
 ],
 "metadata": {
  "kernelspec": {
   "display_name": "bgd",
   "language": "python",
   "name": "python3"
  },
  "language_info": {
   "codemirror_mode": {
    "name": "ipython",
    "version": 3
   },
   "file_extension": ".py",
   "mimetype": "text/x-python",
   "name": "python",
   "nbconvert_exporter": "python",
   "pygments_lexer": "ipython3",
   "version": "3.10.4"
  },
  "orig_nbformat": 4
 },
 "nbformat": 4,
 "nbformat_minor": 2
}
