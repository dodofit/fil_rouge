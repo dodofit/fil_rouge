{
 "cells": [
  {
   "cell_type": "code",
   "execution_count": 62,
   "metadata": {},
   "outputs": [],
   "source": [
    "import pandas as pd\n",
    "import numpy as np\n",
    "import os, sys\n",
    "import glob"
   ]
  },
  {
   "cell_type": "code",
   "execution_count": 29,
   "metadata": {},
   "outputs": [
    {
     "ename": "FileNotFoundError",
     "evalue": "[Errno 2] No such file or directory: './generation_forecast/*'",
     "output_type": "error",
     "traceback": [
      "\u001b[0;31m---------------------------------------------------------------------------\u001b[0m",
      "\u001b[0;31mFileNotFoundError\u001b[0m                         Traceback (most recent call last)",
      "\u001b[1;32m/Users/dorianfitton/Library/Mobile Documents/com~apple~CloudDocs/Documents/Cours_Télécom/fil_rouge/fil_rouge.nosync/notebook_projet/dorian/new_features_testing/generation_forecast_dataset_building.ipynb Cellule 2\u001b[0m in \u001b[0;36m<cell line: 2>\u001b[0;34m()\u001b[0m\n\u001b[1;32m      <a href='vscode-notebook-cell:/Users/dorianfitton/Library/Mobile%20Documents/com~apple~CloudDocs/Documents/Cours_T%C3%A9l%C3%A9com/fil_rouge/fil_rouge.nosync/notebook_projet/dorian/new_features_testing/generation_forecast_dataset_building.ipynb#W1sZmlsZQ%3D%3D?line=0'>1</a>\u001b[0m \u001b[39m#os.remove('./generation_forecast/.DS_Store')\u001b[39;00m\n\u001b[0;32m----> <a href='vscode-notebook-cell:/Users/dorianfitton/Library/Mobile%20Documents/com~apple~CloudDocs/Documents/Cours_T%C3%A9l%C3%A9com/fil_rouge/fil_rouge.nosync/notebook_projet/dorian/new_features_testing/generation_forecast_dataset_building.ipynb#W1sZmlsZQ%3D%3D?line=1'>2</a>\u001b[0m folder \u001b[39m=\u001b[39m os\u001b[39m.\u001b[39;49mlistdir(path\u001b[39m=\u001b[39;49m\u001b[39m'\u001b[39;49m\u001b[39m./generation_forecast/*\u001b[39;49m\u001b[39m'\u001b[39;49m)\n",
      "\u001b[0;31mFileNotFoundError\u001b[0m: [Errno 2] No such file or directory: './generation_forecast/*'"
     ]
    }
   ],
   "source": [
    "os.remove('./generation_forecast/.DS_Store')\n"
   ]
  },
  {
   "cell_type": "code",
   "execution_count": 212,
   "metadata": {},
   "outputs": [
    {
     "name": "stdout",
     "output_type": "stream",
     "text": [
      "['./generation_forecast/PrevisionSolaire_2018.xls.csv', './generation_forecast/PrevisionSolaire_2019.xls.csv', './generation_forecast/PrevisionSolaire_2020.xls.csv', './generation_forecast/PrevisionSolaire_2017.xls.csv', './generation_forecast/PrevisionSolaire_2021.xls.csv', './generation_forecast/PrevisionSolaire_2023.xls.csv', './generation_forecast/PrevisionSolaire_2022.xls.csv']\n"
     ]
    }
   ],
   "source": [
    "import glob\n",
    "\n",
    "solaire_files = glob.glob('./generation_forecast/*Solaire*.csv')\n",
    "eolien_files = glob.glob('./generation_forecast/*Eolien*.csv')\n",
    "print(solaire_files)"
   ]
  },
  {
   "cell_type": "code",
   "execution_count": 240,
   "metadata": {},
   "outputs": [
    {
     "name": "stdout",
     "output_type": "stream",
     "text": [
      "60696\n"
     ]
    },
    {
     "ename": "KeyboardInterrupt",
     "evalue": "",
     "output_type": "error",
     "traceback": [
      "\u001b[0;31m---------------------------------------------------------------------------\u001b[0m",
      "\u001b[0;31mKeyboardInterrupt\u001b[0m                         Traceback (most recent call last)",
      "\u001b[1;32m/Users/dorianfitton/Library/Mobile Documents/com~apple~CloudDocs/Documents/Cours_Télécom/fil_rouge/fil_rouge.nosync/notebook_projet/dorian/new_features_testing/generation_forecast_dataset_building.ipynb Cellule 4\u001b[0m in \u001b[0;36m<cell line: 29>\u001b[0;34m()\u001b[0m\n\u001b[1;32m     <a href='vscode-notebook-cell:/Users/dorianfitton/Library/Mobile%20Documents/com~apple~CloudDocs/Documents/Cours_T%C3%A9l%C3%A9com/fil_rouge/fil_rouge.nosync/notebook_projet/dorian/new_features_testing/generation_forecast_dataset_building.ipynb#W2sZmlsZQ%3D%3D?line=27'>28</a>\u001b[0m \u001b[39mprint\u001b[39m(\u001b[39mlen\u001b[39m(holes))\n\u001b[1;32m     <a href='vscode-notebook-cell:/Users/dorianfitton/Library/Mobile%20Documents/com~apple~CloudDocs/Documents/Cours_T%C3%A9l%C3%A9com/fil_rouge/fil_rouge.nosync/notebook_projet/dorian/new_features_testing/generation_forecast_dataset_building.ipynb#W2sZmlsZQ%3D%3D?line=28'>29</a>\u001b[0m \u001b[39mfor\u001b[39;00m i, idx \u001b[39min\u001b[39;00m \u001b[39menumerate\u001b[39m(holes):\n\u001b[0;32m---> <a href='vscode-notebook-cell:/Users/dorianfitton/Library/Mobile%20Documents/com~apple~CloudDocs/Documents/Cours_T%C3%A9l%C3%A9com/fil_rouge/fil_rouge.nosync/notebook_projet/dorian/new_features_testing/generation_forecast_dataset_building.ipynb#W2sZmlsZQ%3D%3D?line=30'>31</a>\u001b[0m     df_solaire\u001b[39m.\u001b[39mloc[idx, \u001b[39m'\u001b[39m\u001b[39mPrévision J-1\u001b[39m\u001b[39m'\u001b[39m] \u001b[39m=\u001b[39m \u001b[39mNone\u001b[39;00m\n",
      "File \u001b[0;32m~/opt/anaconda3/envs/bgd/lib/python3.10/site-packages/pandas/core/indexing.py:716\u001b[0m, in \u001b[0;36m_LocationIndexer.__setitem__\u001b[0;34m(self, key, value)\u001b[0m\n\u001b[1;32m    713\u001b[0m \u001b[39mself\u001b[39m\u001b[39m.\u001b[39m_has_valid_setitem_indexer(key)\n\u001b[1;32m    715\u001b[0m iloc \u001b[39m=\u001b[39m \u001b[39mself\u001b[39m \u001b[39mif\u001b[39;00m \u001b[39mself\u001b[39m\u001b[39m.\u001b[39mname \u001b[39m==\u001b[39m \u001b[39m\"\u001b[39m\u001b[39miloc\u001b[39m\u001b[39m\"\u001b[39m \u001b[39melse\u001b[39;00m \u001b[39mself\u001b[39m\u001b[39m.\u001b[39mobj\u001b[39m.\u001b[39miloc\n\u001b[0;32m--> 716\u001b[0m iloc\u001b[39m.\u001b[39;49m_setitem_with_indexer(indexer, value, \u001b[39mself\u001b[39;49m\u001b[39m.\u001b[39;49mname)\n",
      "File \u001b[0;32m~/opt/anaconda3/envs/bgd/lib/python3.10/site-packages/pandas/core/indexing.py:1656\u001b[0m, in \u001b[0;36m_iLocIndexer._setitem_with_indexer\u001b[0;34m(self, indexer, value, name)\u001b[0m\n\u001b[1;32m   1651\u001b[0m \u001b[39m# reindex the axis\u001b[39;00m\n\u001b[1;32m   1652\u001b[0m \u001b[39m# make sure to clear the cache because we are\u001b[39;00m\n\u001b[1;32m   1653\u001b[0m \u001b[39m# just replacing the block manager here\u001b[39;00m\n\u001b[1;32m   1654\u001b[0m \u001b[39m# so the object is the same\u001b[39;00m\n\u001b[1;32m   1655\u001b[0m index \u001b[39m=\u001b[39m \u001b[39mself\u001b[39m\u001b[39m.\u001b[39mobj\u001b[39m.\u001b[39m_get_axis(i)\n\u001b[0;32m-> 1656\u001b[0m labels \u001b[39m=\u001b[39m index\u001b[39m.\u001b[39;49minsert(\u001b[39mlen\u001b[39;49m(index), key)\n\u001b[1;32m   1658\u001b[0m \u001b[39m# We are expanding the Series/DataFrame values to match\u001b[39;00m\n\u001b[1;32m   1659\u001b[0m \u001b[39m#  the length of thenew index `labels`.  GH#40096 ensure\u001b[39;00m\n\u001b[1;32m   1660\u001b[0m \u001b[39m#  this is valid even if the index has duplicates.\u001b[39;00m\n\u001b[1;32m   1661\u001b[0m taker \u001b[39m=\u001b[39m np\u001b[39m.\u001b[39marange(\u001b[39mlen\u001b[39m(index) \u001b[39m+\u001b[39m \u001b[39m1\u001b[39m, dtype\u001b[39m=\u001b[39mnp\u001b[39m.\u001b[39mintp)\n",
      "File \u001b[0;32m~/opt/anaconda3/envs/bgd/lib/python3.10/site-packages/pandas/core/indexes/base.py:6613\u001b[0m, in \u001b[0;36mIndex.insert\u001b[0;34m(self, loc, item)\u001b[0m\n\u001b[1;32m   6609\u001b[0m     new_values[loc] \u001b[39m=\u001b[39m item\n\u001b[1;32m   6611\u001b[0m \u001b[39m# Use self._constructor instead of Index to retain NumericIndex GH#43921\u001b[39;00m\n\u001b[1;32m   6612\u001b[0m \u001b[39m# TODO(2.0) can use Index instead of self._constructor\u001b[39;00m\n\u001b[0;32m-> 6613\u001b[0m \u001b[39mreturn\u001b[39;00m \u001b[39mself\u001b[39;49m\u001b[39m.\u001b[39;49m_constructor\u001b[39m.\u001b[39;49m_with_infer(new_values, name\u001b[39m=\u001b[39;49m\u001b[39mself\u001b[39;49m\u001b[39m.\u001b[39;49mname)\n",
      "File \u001b[0;32m~/opt/anaconda3/envs/bgd/lib/python3.10/site-packages/pandas/core/indexes/base.py:680\u001b[0m, in \u001b[0;36mIndex._with_infer\u001b[0;34m(cls, *args, **kwargs)\u001b[0m\n\u001b[1;32m    678\u001b[0m \u001b[39mwith\u001b[39;00m warnings\u001b[39m.\u001b[39mcatch_warnings():\n\u001b[1;32m    679\u001b[0m     warnings\u001b[39m.\u001b[39mfilterwarnings(\u001b[39m\"\u001b[39m\u001b[39mignore\u001b[39m\u001b[39m\"\u001b[39m, \u001b[39m\"\u001b[39m\u001b[39m.*the Index constructor\u001b[39m\u001b[39m\"\u001b[39m, \u001b[39mFutureWarning\u001b[39;00m)\n\u001b[0;32m--> 680\u001b[0m     result \u001b[39m=\u001b[39m \u001b[39mcls\u001b[39;49m(\u001b[39m*\u001b[39;49margs, \u001b[39m*\u001b[39;49m\u001b[39m*\u001b[39;49mkwargs)\n\u001b[1;32m    682\u001b[0m \u001b[39mif\u001b[39;00m result\u001b[39m.\u001b[39mdtype \u001b[39m==\u001b[39m _dtype_obj \u001b[39mand\u001b[39;00m \u001b[39mnot\u001b[39;00m result\u001b[39m.\u001b[39m_is_multi:\n\u001b[1;32m    683\u001b[0m     \u001b[39m# error: Argument 1 to \"maybe_convert_objects\" has incompatible type\u001b[39;00m\n\u001b[1;32m    684\u001b[0m     \u001b[39m# \"Union[ExtensionArray, ndarray[Any, Any]]\"; expected\u001b[39;00m\n\u001b[1;32m    685\u001b[0m     \u001b[39m# \"ndarray[Any, Any]\"\u001b[39;00m\n\u001b[1;32m    686\u001b[0m     values \u001b[39m=\u001b[39m lib\u001b[39m.\u001b[39mmaybe_convert_objects(result\u001b[39m.\u001b[39m_values)  \u001b[39m# type: ignore[arg-type]\u001b[39;00m\n",
      "File \u001b[0;32m~/opt/anaconda3/envs/bgd/lib/python3.10/site-packages/pandas/core/indexes/base.py:494\u001b[0m, in \u001b[0;36mIndex.__new__\u001b[0;34m(cls, data, dtype, copy, name, tupleize_cols, **kwargs)\u001b[0m\n\u001b[1;32m    491\u001b[0m arr \u001b[39m=\u001b[39m com\u001b[39m.\u001b[39masarray_tuplesafe(data, dtype\u001b[39m=\u001b[39m_dtype_obj)\n\u001b[1;32m    493\u001b[0m \u001b[39mif\u001b[39;00m dtype \u001b[39mis\u001b[39;00m \u001b[39mNone\u001b[39;00m:\n\u001b[0;32m--> 494\u001b[0m     arr \u001b[39m=\u001b[39m _maybe_cast_data_without_dtype(\n\u001b[1;32m    495\u001b[0m         arr, cast_numeric_deprecated\u001b[39m=\u001b[39;49m\u001b[39mTrue\u001b[39;49;00m\n\u001b[1;32m    496\u001b[0m     )\n\u001b[1;32m    497\u001b[0m     dtype \u001b[39m=\u001b[39m arr\u001b[39m.\u001b[39mdtype\n\u001b[1;32m    499\u001b[0m     \u001b[39mif\u001b[39;00m kwargs:\n",
      "File \u001b[0;32m~/opt/anaconda3/envs/bgd/lib/python3.10/site-packages/pandas/core/indexes/base.py:7124\u001b[0m, in \u001b[0;36m_maybe_cast_data_without_dtype\u001b[0;34m(subarr, cast_numeric_deprecated)\u001b[0m\n\u001b[1;32m   7106\u001b[0m \u001b[39mdef\u001b[39;00m \u001b[39m_maybe_cast_data_without_dtype\u001b[39m(\n\u001b[1;32m   7107\u001b[0m     subarr: np\u001b[39m.\u001b[39mndarray, cast_numeric_deprecated: \u001b[39mbool\u001b[39m \u001b[39m=\u001b[39m \u001b[39mTrue\u001b[39;00m\n\u001b[1;32m   7108\u001b[0m ) \u001b[39m-\u001b[39m\u001b[39m>\u001b[39m ArrayLike:\n\u001b[1;32m   7109\u001b[0m     \u001b[39m\"\"\"\u001b[39;00m\n\u001b[1;32m   7110\u001b[0m \u001b[39m    If we have an arraylike input but no passed dtype, try to infer\u001b[39;00m\n\u001b[1;32m   7111\u001b[0m \u001b[39m    a supported dtype.\u001b[39;00m\n\u001b[0;32m   (...)\u001b[0m\n\u001b[1;32m   7121\u001b[0m \u001b[39m    np.ndarray or ExtensionArray\u001b[39;00m\n\u001b[1;32m   7122\u001b[0m \u001b[39m    \"\"\"\u001b[39;00m\n\u001b[0;32m-> 7124\u001b[0m     result \u001b[39m=\u001b[39m lib\u001b[39m.\u001b[39;49mmaybe_convert_objects(\n\u001b[1;32m   7125\u001b[0m         subarr,\n\u001b[1;32m   7126\u001b[0m         convert_datetime\u001b[39m=\u001b[39;49m\u001b[39mTrue\u001b[39;49;00m,\n\u001b[1;32m   7127\u001b[0m         convert_timedelta\u001b[39m=\u001b[39;49m\u001b[39mTrue\u001b[39;49;00m,\n\u001b[1;32m   7128\u001b[0m         convert_period\u001b[39m=\u001b[39;49m\u001b[39mTrue\u001b[39;49;00m,\n\u001b[1;32m   7129\u001b[0m         convert_interval\u001b[39m=\u001b[39;49m\u001b[39mTrue\u001b[39;49;00m,\n\u001b[1;32m   7130\u001b[0m         dtype_if_all_nat\u001b[39m=\u001b[39;49mnp\u001b[39m.\u001b[39;49mdtype(\u001b[39m\"\u001b[39;49m\u001b[39mdatetime64[ns]\u001b[39;49m\u001b[39m\"\u001b[39;49m),\n\u001b[1;32m   7131\u001b[0m     )\n\u001b[1;32m   7132\u001b[0m     \u001b[39mif\u001b[39;00m result\u001b[39m.\u001b[39mdtype\u001b[39m.\u001b[39mkind \u001b[39min\u001b[39;00m [\u001b[39m\"\u001b[39m\u001b[39mi\u001b[39m\u001b[39m\"\u001b[39m, \u001b[39m\"\u001b[39m\u001b[39mu\u001b[39m\u001b[39m\"\u001b[39m, \u001b[39m\"\u001b[39m\u001b[39mf\u001b[39m\u001b[39m\"\u001b[39m]:\n\u001b[1;32m   7133\u001b[0m         \u001b[39mif\u001b[39;00m \u001b[39mnot\u001b[39;00m cast_numeric_deprecated:\n\u001b[1;32m   7134\u001b[0m             \u001b[39m# i.e. we started with a list, not an ndarray[object]\u001b[39;00m\n",
      "\u001b[0;31mKeyboardInterrupt\u001b[0m: "
     ]
    }
   ],
   "source": [
    "files = [solaire_files, eolien_files]\n",
    "df_list = []\n",
    "for i, file in enumerate(solaire_files):\n",
    "\n",
    "    df = pd.read_csv(file, encoding='latin1', sep='\\t')\n",
    "    df_list.append(df)\n",
    "\n",
    "df_solaire = pd.concat(df_list)\n",
    "\n",
    "mask = df_solaire['Heure'].isna()\n",
    "df_solaire=df_solaire.loc[~mask]\n",
    "\n",
    "df_solaire['Date_Heure_France'] = df_solaire['Date'] + ' ' + df_solaire['Heure']\n",
    "df_solaire['Date_Heure_France'] = pd.to_datetime(df_solaire['Date_Heure_France'])\n",
    "\n",
    "df_solaire = df_solaire.reset_index(drop=True)\n",
    "df_solaire = df_solaire.sort_values('Date_Heure_France', axis = 0)\n",
    "\n",
    "df_solaire = df_solaire[['Date_Heure_France', 'Prévision J-1']]\n",
    "\n",
    "date_debut = df_solaire['Date_Heure_France'].iloc[0]#.tz_localize('Europe/Paris').tz_convert('UTC').tz_localize(None)\n",
    "date_fin = df_solaire['Date_Heure_France'].iloc[-1]#.tz_localize('Europe/Paris').tz_convert('UTC').tz_localize(None)\n",
    "date_range = pd.date_range(date_debut, date_fin , freq='1H')\n",
    "\n",
    "here = date_range.isin(df_solaire.index)\n",
    "holes= date_range[~here]\n",
    "\n",
    "print(len(holes))\n",
    "for i, idx in enumerate(holes):\n",
    "\n",
    "    df_solaire.loc[idx, 'Prévision J-1'] = None\n",
    "\n"
   ]
  },
  {
   "cell_type": "code",
   "execution_count": null,
   "metadata": {},
   "outputs": [],
   "source": [
    "date_debut = df_solaire['Date_Heure_France'].loc[0].tz_localize('Europe/Paris').tz_convert('UTC').tz_localize(None)\n",
    "date_range = pd.date_range(date_debut, periods = len(df_solaire), freq='1H')\n",
    "df_solaire.index = date_range\n",
    "\n",
    "##df_solaire['Date_UTC'] = df_solaire.Date_Heure_France.apply(lambda x: x.tz_localize('Europe/Paris'))\n",
    "\n",
    "df_solaire.index = df_solaire.index.rename('Date UTC')\n",
    "print(df_solaire.columns)\n",
    "df_solaire.loc[df_solaire['Prévision J-1'].str.startswith('-')]\n",
    "df_solaire['Prévision J-1']=df_solaire['Prévision J-1'].apply(lambda x: float(x) if x!='-' else None)"
   ]
  },
  {
   "cell_type": "code",
   "execution_count": 228,
   "metadata": {},
   "outputs": [
    {
     "data": {
      "text/plain": [
       "DatetimeIndex(['2017-01-01 00:00:00', '2017-01-01 01:00:00',\n",
       "               '2017-01-01 02:00:00', '2017-01-01 03:00:00',\n",
       "               '2017-01-01 04:00:00', '2017-01-01 05:00:00',\n",
       "               '2017-01-01 06:00:00', '2017-01-01 07:00:00',\n",
       "               '2017-01-01 08:00:00', '2017-01-01 09:00:00',\n",
       "               ...\n",
       "               '2023-12-04 14:00:00', '2023-12-04 15:00:00',\n",
       "               '2023-12-04 16:00:00', '2023-12-04 17:00:00',\n",
       "               '2023-12-04 18:00:00', '2023-12-04 19:00:00',\n",
       "               '2023-12-04 20:00:00', '2023-12-04 21:00:00',\n",
       "               '2023-12-04 22:00:00', '2023-12-04 23:00:00'],\n",
       "              dtype='datetime64[ns]', name='Date UTC', length=55008, freq=None)"
      ]
     },
     "execution_count": 228,
     "metadata": {},
     "output_type": "execute_result"
    }
   ],
   "source": [
    "df_solaire.index"
   ]
  },
  {
   "cell_type": "code",
   "execution_count": 229,
   "metadata": {},
   "outputs": [
    {
     "name": "stdout",
     "output_type": "stream",
     "text": [
      "60696\n"
     ]
    }
   ],
   "source": [
    "date_debut = df_solaire['Date_Heure_France'].iloc[0]#.tz_localize('Europe/Paris').tz_convert('UTC').tz_localize(None)\n",
    "date_fin = df_solaire['Date_Heure_France'].iloc[-1]#.tz_localize('Europe/Paris').tz_convert('UTC').tz_localize(None)\n",
    "date_range = pd.date_range(date_debut, date_fin , freq='1H')\n",
    "\n",
    "here = df_solaire.index.isin(date_range)\n",
    "df_solaire.index[~here]\n",
    "\n",
    "here = date_range.isin(df_solaire.index)\n",
    "holes= date_range[~here]\n",
    "\n",
    "for idx in holes:\n",
    "    df_solaire.loc[idx, 'Prévision J-1'] = None\n",
    "    df_solaire.loc[idx, 'Date_Heure_France'] = idx\n",
    "\n"
   ]
  },
  {
   "cell_type": "code",
   "execution_count": 230,
   "metadata": {},
   "outputs": [],
   "source": []
  },
  {
   "cell_type": "code",
   "execution_count": 231,
   "metadata": {},
   "outputs": [
    {
     "data": {
      "text/html": [
       "<div>\n",
       "<style scoped>\n",
       "    .dataframe tbody tr th:only-of-type {\n",
       "        vertical-align: middle;\n",
       "    }\n",
       "\n",
       "    .dataframe tbody tr th {\n",
       "        vertical-align: top;\n",
       "    }\n",
       "\n",
       "    .dataframe thead th {\n",
       "        text-align: right;\n",
       "    }\n",
       "</style>\n",
       "<table border=\"1\" class=\"dataframe\">\n",
       "  <thead>\n",
       "    <tr style=\"text-align: right;\">\n",
       "      <th></th>\n",
       "      <th>Date_Heure_France</th>\n",
       "      <th>Prévision J-1</th>\n",
       "    </tr>\n",
       "    <tr>\n",
       "      <th>Date UTC</th>\n",
       "      <th></th>\n",
       "      <th></th>\n",
       "    </tr>\n",
       "  </thead>\n",
       "  <tbody>\n",
       "    <tr>\n",
       "      <th>2017-01-01 00:00:00</th>\n",
       "      <td>2017-01-01 00:00:00</td>\n",
       "      <td>0.0</td>\n",
       "    </tr>\n",
       "    <tr>\n",
       "      <th>2017-01-01 01:00:00</th>\n",
       "      <td>2017-01-01 01:00:00</td>\n",
       "      <td>0.0</td>\n",
       "    </tr>\n",
       "    <tr>\n",
       "      <th>2017-01-01 02:00:00</th>\n",
       "      <td>2017-01-01 02:00:00</td>\n",
       "      <td>0.0</td>\n",
       "    </tr>\n",
       "    <tr>\n",
       "      <th>2017-01-01 03:00:00</th>\n",
       "      <td>2017-01-01 03:00:00</td>\n",
       "      <td>0.0</td>\n",
       "    </tr>\n",
       "    <tr>\n",
       "      <th>2017-01-01 04:00:00</th>\n",
       "      <td>2017-01-01 04:00:00</td>\n",
       "      <td>0.0</td>\n",
       "    </tr>\n",
       "    <tr>\n",
       "      <th>...</th>\n",
       "      <td>...</td>\n",
       "      <td>...</td>\n",
       "    </tr>\n",
       "    <tr>\n",
       "      <th>2023-11-30 19:00:00</th>\n",
       "      <td>2023-11-30 19:00:00</td>\n",
       "      <td>NaN</td>\n",
       "    </tr>\n",
       "    <tr>\n",
       "      <th>2023-11-30 20:00:00</th>\n",
       "      <td>2023-11-30 20:00:00</td>\n",
       "      <td>NaN</td>\n",
       "    </tr>\n",
       "    <tr>\n",
       "      <th>2023-11-30 21:00:00</th>\n",
       "      <td>2023-11-30 21:00:00</td>\n",
       "      <td>NaN</td>\n",
       "    </tr>\n",
       "    <tr>\n",
       "      <th>2023-11-30 22:00:00</th>\n",
       "      <td>2023-11-30 22:00:00</td>\n",
       "      <td>NaN</td>\n",
       "    </tr>\n",
       "    <tr>\n",
       "      <th>2023-11-30 23:00:00</th>\n",
       "      <td>2023-11-30 23:00:00</td>\n",
       "      <td>NaN</td>\n",
       "    </tr>\n",
       "  </tbody>\n",
       "</table>\n",
       "<p>60696 rows × 2 columns</p>\n",
       "</div>"
      ],
      "text/plain": [
       "                      Date_Heure_France  Prévision J-1\n",
       "Date UTC                                              \n",
       "2017-01-01 00:00:00 2017-01-01 00:00:00            0.0\n",
       "2017-01-01 01:00:00 2017-01-01 01:00:00            0.0\n",
       "2017-01-01 02:00:00 2017-01-01 02:00:00            0.0\n",
       "2017-01-01 03:00:00 2017-01-01 03:00:00            0.0\n",
       "2017-01-01 04:00:00 2017-01-01 04:00:00            0.0\n",
       "...                                 ...            ...\n",
       "2023-11-30 19:00:00 2023-11-30 19:00:00            NaN\n",
       "2023-11-30 20:00:00 2023-11-30 20:00:00            NaN\n",
       "2023-11-30 21:00:00 2023-11-30 21:00:00            NaN\n",
       "2023-11-30 22:00:00 2023-11-30 22:00:00            NaN\n",
       "2023-11-30 23:00:00 2023-11-30 23:00:00            NaN\n",
       "\n",
       "[60696 rows x 2 columns]"
      ]
     },
     "execution_count": 231,
     "metadata": {},
     "output_type": "execute_result"
    }
   ],
   "source": [
    "df_solaire"
   ]
  },
  {
   "cell_type": "code",
   "execution_count": 208,
   "metadata": {},
   "outputs": [],
   "source": []
  },
  {
   "cell_type": "code",
   "execution_count": 233,
   "metadata": {},
   "outputs": [
    {
     "data": {
      "text/html": [
       "<div>\n",
       "<style scoped>\n",
       "    .dataframe tbody tr th:only-of-type {\n",
       "        vertical-align: middle;\n",
       "    }\n",
       "\n",
       "    .dataframe tbody tr th {\n",
       "        vertical-align: top;\n",
       "    }\n",
       "\n",
       "    .dataframe thead th {\n",
       "        text-align: right;\n",
       "    }\n",
       "</style>\n",
       "<table border=\"1\" class=\"dataframe\">\n",
       "  <thead>\n",
       "    <tr style=\"text-align: right;\">\n",
       "      <th></th>\n",
       "      <th>Date_Heure_France</th>\n",
       "      <th>Prévision J-1</th>\n",
       "    </tr>\n",
       "    <tr>\n",
       "      <th>Date UTC</th>\n",
       "      <th></th>\n",
       "      <th></th>\n",
       "    </tr>\n",
       "  </thead>\n",
       "  <tbody>\n",
       "    <tr>\n",
       "      <th>2017-01-01 00:00:00</th>\n",
       "      <td>2017-01-01 00:00:00</td>\n",
       "      <td>0.0</td>\n",
       "    </tr>\n",
       "    <tr>\n",
       "      <th>2017-01-01 01:00:00</th>\n",
       "      <td>2017-01-01 01:00:00</td>\n",
       "      <td>0.0</td>\n",
       "    </tr>\n",
       "    <tr>\n",
       "      <th>2017-01-01 02:00:00</th>\n",
       "      <td>2017-01-01 02:00:00</td>\n",
       "      <td>0.0</td>\n",
       "    </tr>\n",
       "    <tr>\n",
       "      <th>2017-01-01 03:00:00</th>\n",
       "      <td>2017-01-01 03:00:00</td>\n",
       "      <td>0.0</td>\n",
       "    </tr>\n",
       "    <tr>\n",
       "      <th>2017-01-01 04:00:00</th>\n",
       "      <td>2017-01-01 04:00:00</td>\n",
       "      <td>0.0</td>\n",
       "    </tr>\n",
       "    <tr>\n",
       "      <th>...</th>\n",
       "      <td>...</td>\n",
       "      <td>...</td>\n",
       "    </tr>\n",
       "    <tr>\n",
       "      <th>2023-11-30 19:00:00</th>\n",
       "      <td>2023-11-30 19:00:00</td>\n",
       "      <td>NaN</td>\n",
       "    </tr>\n",
       "    <tr>\n",
       "      <th>2023-11-30 20:00:00</th>\n",
       "      <td>2023-11-30 20:00:00</td>\n",
       "      <td>NaN</td>\n",
       "    </tr>\n",
       "    <tr>\n",
       "      <th>2023-11-30 21:00:00</th>\n",
       "      <td>2023-11-30 21:00:00</td>\n",
       "      <td>NaN</td>\n",
       "    </tr>\n",
       "    <tr>\n",
       "      <th>2023-11-30 22:00:00</th>\n",
       "      <td>2023-11-30 22:00:00</td>\n",
       "      <td>NaN</td>\n",
       "    </tr>\n",
       "    <tr>\n",
       "      <th>2023-11-30 23:00:00</th>\n",
       "      <td>2023-11-30 23:00:00</td>\n",
       "      <td>NaN</td>\n",
       "    </tr>\n",
       "  </tbody>\n",
       "</table>\n",
       "<p>60696 rows × 2 columns</p>\n",
       "</div>"
      ],
      "text/plain": [
       "                      Date_Heure_France  Prévision J-1\n",
       "Date UTC                                              \n",
       "2017-01-01 00:00:00 2017-01-01 00:00:00            0.0\n",
       "2017-01-01 01:00:00 2017-01-01 01:00:00            0.0\n",
       "2017-01-01 02:00:00 2017-01-01 02:00:00            0.0\n",
       "2017-01-01 03:00:00 2017-01-01 03:00:00            0.0\n",
       "2017-01-01 04:00:00 2017-01-01 04:00:00            0.0\n",
       "...                                 ...            ...\n",
       "2023-11-30 19:00:00 2023-11-30 19:00:00            NaN\n",
       "2023-11-30 20:00:00 2023-11-30 20:00:00            NaN\n",
       "2023-11-30 21:00:00 2023-11-30 21:00:00            NaN\n",
       "2023-11-30 22:00:00 2023-11-30 22:00:00            NaN\n",
       "2023-11-30 23:00:00 2023-11-30 23:00:00            NaN\n",
       "\n",
       "[60696 rows x 2 columns]"
      ]
     },
     "execution_count": 233,
     "metadata": {},
     "output_type": "execute_result"
    }
   ],
   "source": [
    "df_solaire"
   ]
  },
  {
   "cell_type": "code",
   "execution_count": 232,
   "metadata": {},
   "outputs": [
    {
     "data": {
      "text/html": [
       "<div>\n",
       "<style scoped>\n",
       "    .dataframe tbody tr th:only-of-type {\n",
       "        vertical-align: middle;\n",
       "    }\n",
       "\n",
       "    .dataframe tbody tr th {\n",
       "        vertical-align: top;\n",
       "    }\n",
       "\n",
       "    .dataframe thead th {\n",
       "        text-align: right;\n",
       "    }\n",
       "</style>\n",
       "<table border=\"1\" class=\"dataframe\">\n",
       "  <thead>\n",
       "    <tr style=\"text-align: right;\">\n",
       "      <th></th>\n",
       "      <th>Prévision J-1</th>\n",
       "    </tr>\n",
       "  </thead>\n",
       "  <tbody>\n",
       "    <tr>\n",
       "      <th>count</th>\n",
       "      <td>54681.000000</td>\n",
       "    </tr>\n",
       "    <tr>\n",
       "      <th>mean</th>\n",
       "      <td>1464.660966</td>\n",
       "    </tr>\n",
       "    <tr>\n",
       "      <th>std</th>\n",
       "      <td>2166.682606</td>\n",
       "    </tr>\n",
       "    <tr>\n",
       "      <th>min</th>\n",
       "      <td>0.000000</td>\n",
       "    </tr>\n",
       "    <tr>\n",
       "      <th>25%</th>\n",
       "      <td>0.000000</td>\n",
       "    </tr>\n",
       "    <tr>\n",
       "      <th>50%</th>\n",
       "      <td>9.460000</td>\n",
       "    </tr>\n",
       "    <tr>\n",
       "      <th>75%</th>\n",
       "      <td>2619.680000</td>\n",
       "    </tr>\n",
       "    <tr>\n",
       "      <th>max</th>\n",
       "      <td>12213.510000</td>\n",
       "    </tr>\n",
       "  </tbody>\n",
       "</table>\n",
       "</div>"
      ],
      "text/plain": [
       "       Prévision J-1\n",
       "count   54681.000000\n",
       "mean     1464.660966\n",
       "std      2166.682606\n",
       "min         0.000000\n",
       "25%         0.000000\n",
       "50%         9.460000\n",
       "75%      2619.680000\n",
       "max     12213.510000"
      ]
     },
     "execution_count": 232,
     "metadata": {},
     "output_type": "execute_result"
    }
   ],
   "source": [
    "pd.set_option(\"display.max_rows\", 20)\n",
    "pd.set_option(\"display.max_columns\", None)\n",
    "df_solaire.describe()"
   ]
  },
  {
   "cell_type": "code",
   "execution_count": 151,
   "metadata": {},
   "outputs": [
    {
     "name": "stdout",
     "output_type": "stream",
     "text": [
      "Index(['Date_Heure_France', 'Prévision J-1', 'Taux de charge J-1'], dtype='object')\n"
     ]
    },
    {
     "data": {
      "text/html": [
       "<div>\n",
       "<style scoped>\n",
       "    .dataframe tbody tr th:only-of-type {\n",
       "        vertical-align: middle;\n",
       "    }\n",
       "\n",
       "    .dataframe tbody tr th {\n",
       "        vertical-align: top;\n",
       "    }\n",
       "\n",
       "    .dataframe thead th {\n",
       "        text-align: right;\n",
       "    }\n",
       "</style>\n",
       "<table border=\"1\" class=\"dataframe\">\n",
       "  <thead>\n",
       "    <tr style=\"text-align: right;\">\n",
       "      <th></th>\n",
       "      <th>Date_Heure_France</th>\n",
       "      <th>Prévision J-1</th>\n",
       "      <th>Taux de charge J-1</th>\n",
       "    </tr>\n",
       "    <tr>\n",
       "      <th>Date_UTC</th>\n",
       "      <th></th>\n",
       "      <th></th>\n",
       "      <th></th>\n",
       "    </tr>\n",
       "  </thead>\n",
       "  <tbody>\n",
       "    <tr>\n",
       "      <th>2022-04-20 05:00:00</th>\n",
       "      <td>2022-12-06 19:00:00</td>\n",
       "      <td>3611.51</td>\n",
       "      <td>20%</td>\n",
       "    </tr>\n",
       "    <tr>\n",
       "      <th>2022-04-20 06:00:00</th>\n",
       "      <td>2022-12-06 20:00:00</td>\n",
       "      <td>4043.03</td>\n",
       "      <td>23%</td>\n",
       "    </tr>\n",
       "    <tr>\n",
       "      <th>2022-04-20 07:00:00</th>\n",
       "      <td>2022-12-06 21:00:00</td>\n",
       "      <td>4154.14</td>\n",
       "      <td>23%</td>\n",
       "    </tr>\n",
       "    <tr>\n",
       "      <th>2022-04-20 08:00:00</th>\n",
       "      <td>2022-12-06 22:00:00</td>\n",
       "      <td>4265.02</td>\n",
       "      <td>24%</td>\n",
       "    </tr>\n",
       "    <tr>\n",
       "      <th>2022-04-20 09:00:00</th>\n",
       "      <td>2022-12-06 23:00:00</td>\n",
       "      <td>4376.66</td>\n",
       "      <td>24%</td>\n",
       "    </tr>\n",
       "  </tbody>\n",
       "</table>\n",
       "</div>"
      ],
      "text/plain": [
       "                      Date_Heure_France  Prévision J-1 Taux de charge J-1\n",
       "Date_UTC                                                                 \n",
       "2022-04-20 05:00:00 2022-12-06 19:00:00        3611.51                20%\n",
       "2022-04-20 06:00:00 2022-12-06 20:00:00        4043.03                23%\n",
       "2022-04-20 07:00:00 2022-12-06 21:00:00        4154.14                23%\n",
       "2022-04-20 08:00:00 2022-12-06 22:00:00        4265.02                24%\n",
       "2022-04-20 09:00:00 2022-12-06 23:00:00        4376.66                24%"
      ]
     },
     "execution_count": 151,
     "metadata": {},
     "output_type": "execute_result"
    }
   ],
   "source": [
    "df_list = []\n",
    "for i, file in enumerate(eolien_files):\n",
    "\n",
    "    df = pd.read_csv(file, encoding='latin1', sep='\\t')\n",
    "    df_list.append(df)\n",
    "\n",
    "df_eolien = pd.concat(df_list)\n",
    "\n",
    "mask = df_eolien['Heure'].isna()\n",
    "df_eolien=df_eolien.loc[~mask]\n",
    "\n",
    "df_eolien['Date_Heure_France'] = df_eolien['Date'] + ' ' + df_eolien['Heure']\n",
    "df_eolien['Date_Heure_France'] = pd.to_datetime(df_eolien['Date_Heure_France'])\n",
    "\n",
    "df_eolien = df_eolien.reset_index(drop=True)\n",
    "df_eolien = df_eolien.sort_values('Date_Heure_France', axis = 0)\n",
    "\n",
    "df_eolien = df_eolien[['Date_Heure_France', 'Prévision J-1', 'Taux de charge J-1']]\n",
    "\n",
    "date_debut = df_eolien['Date_Heure_France'].loc[0].tz_localize('Europe/Paris').tz_convert('UTC').tz_localize(None)\n",
    "date_range = pd.date_range(date_debut, periods = len(df_eolien), freq='1H')\n",
    "df_eolien.index = date_range.rename('Date_UTC')\n",
    "#df_eolien = df_eolien.sort_index()\n",
    "print(df_eolien.columns)\n",
    "df_eolien.tail()\n"
   ]
  },
  {
   "cell_type": "code",
   "execution_count": null,
   "metadata": {},
   "outputs": [],
   "source": []
  }
 ],
 "metadata": {
  "kernelspec": {
   "display_name": "bgd",
   "language": "python",
   "name": "python3"
  },
  "language_info": {
   "codemirror_mode": {
    "name": "ipython",
    "version": 3
   },
   "file_extension": ".py",
   "mimetype": "text/x-python",
   "name": "python",
   "nbconvert_exporter": "python",
   "pygments_lexer": "ipython3",
   "version": "3.10.4"
  },
  "orig_nbformat": 4
 },
 "nbformat": 4,
 "nbformat_minor": 2
}
