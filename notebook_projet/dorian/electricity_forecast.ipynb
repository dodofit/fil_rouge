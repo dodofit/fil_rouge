{
 "cells": [
  {
   "cell_type": "code",
   "execution_count": 2,
   "id": "6edff4a4",
   "metadata": {},
   "outputs": [],
   "source": [
    "import os, glob\n",
    "import pandas as pd\n",
    "import datetime\n",
    "import numpy as np\n",
    "from epftoolbox.models_dorian._lear import LEAR"
   ]
  },
  {
   "cell_type": "code",
   "execution_count": 2,
   "outputs": [],
   "source": [
    "path_prices = \"/Users/dorianfitton/Documents/Cours_Télécom/fil_rouge/data/day_ahead_price_data/\"\n",
    "path_demand = \"/Users/dorianfitton/Documents/Cours_Télécom/fil_rouge/data/day_ahead_demand/\"\n",
    "path_generation = \"/Users/dorianfitton/Documents/Cours_Télécom/fil_rouge/data/day_ahead_generation/\"\n",
    "\n",
    "#Day-ahead Prices\n",
    "#Total Load - Day Ahead\n",
    "#Generation Forecast - Day ahead"
   ],
   "metadata": {
    "collapsed": false
   }
  },
  {
   "cell_type": "code",
   "execution_count": 3,
   "outputs": [],
   "source": [
    "def csvs_to_df(path, file_name_start:str):\n",
    "    all_files = glob.glob(os.path.join(path, file_name_start+\"*.csv\"))\n",
    "    df_from_each_file = (pd.read_csv(f, sep=',') for f in all_files)\n",
    "    df = pd.concat(df_from_each_file, ignore_index=True)\n",
    "    df.columns = ['Time', *df.columns[1:]]\n",
    "    df[df.columns[1]] = df[df.columns[1]].replace('-', '0').astype(float)\n",
    "    return df\n"
   ],
   "metadata": {
    "collapsed": false
   }
  },
  {
   "cell_type": "code",
   "execution_count": 4,
   "outputs": [
    {
     "ename": "NameError",
     "evalue": "name 'df_prices_h' is not defined",
     "output_type": "error",
     "traceback": [
      "\u001B[0;31m---------------------------------------------------------------------------\u001B[0m",
      "\u001B[0;31mNameError\u001B[0m                                 Traceback (most recent call last)",
      "Input \u001B[0;32mIn [4]\u001B[0m, in \u001B[0;36m<cell line: 1>\u001B[0;34m()\u001B[0m\n\u001B[0;32m----> 1\u001B[0m \u001B[43mdf_prices_h\u001B[49m\u001B[38;5;241m.\u001B[39mloc[df_prices_h[df_prices_h\u001B[38;5;241m.\u001B[39mcolumns[\u001B[38;5;241m1\u001B[39m]]\u001B[38;5;241m.\u001B[39mastype(\u001B[38;5;28mstr\u001B[39m)\u001B[38;5;241m.\u001B[39mstr\u001B[38;5;241m.\u001B[39mcontains(\u001B[38;5;124m'\u001B[39m\u001B[38;5;124m[^0-9\u001B[39m\u001B[38;5;124m\\\u001B[39m\u001B[38;5;124m.]\u001B[39m\u001B[38;5;124m'\u001B[39m), df_prices_h\u001B[38;5;241m.\u001B[39mcolumns[\u001B[38;5;241m1\u001B[39m]]\u001B[38;5;241m.\u001B[39munique()\n",
      "\u001B[0;31mNameError\u001B[0m: name 'df_prices_h' is not defined"
     ]
    }
   ],
   "source": [
    "df_prices_h.loc[df_prices_h[df_prices_h.columns[1]].astype(str).str.contains('[^0-9\\.]'), df_prices_h.columns[1]].unique()"
   ],
   "metadata": {
    "collapsed": false
   }
  },
  {
   "cell_type": "code",
   "execution_count": 5,
   "outputs": [],
   "source": [
    "def delta_to_datetime(df, name_date_column:str):\n",
    "    df[name_date_column]=df[name_date_column].apply(lambda x: x[19:35])\n",
    "    df[name_date_column] = df[name_date_column].apply(lambda x: datetime.datetime.strptime(x, \"%d.%m.%Y %H:%M\"))\n",
    "    return df"
   ],
   "metadata": {
    "collapsed": false
   }
  },
  {
   "cell_type": "code",
   "execution_count": 6,
   "outputs": [],
   "source": [
    "def na_to_mean(df):\n",
    "    df_p_na = df.loc[df[df.columns[1]].isna()==True].sort_values('Time')\n",
    "    for i in df_p_na.index:\n",
    "        df[df.columns[1]][i]=(df[df.columns[1]][i-1]+df[df.columns[1]][i+1])/2\n",
    "    return df"
   ],
   "metadata": {
    "collapsed": false
   }
  },
  {
   "cell_type": "code",
   "execution_count": 7,
   "outputs": [
    {
     "name": "stderr",
     "output_type": "stream",
     "text": [
      "/var/folders/h9/3f0fc1qs2t3943x127_ynxmc0000gn/T/ipykernel_51908/297795465.py:4: SettingWithCopyWarning: \n",
      "A value is trying to be set on a copy of a slice from a DataFrame\n",
      "\n",
      "See the caveats in the documentation: https://pandas.pydata.org/pandas-docs/stable/user_guide/indexing.html#returning-a-view-versus-a-copy\n",
      "  df[df.columns[1]][i]=(df[df.columns[1]][i-1]+df[df.columns[1]][i+1])/2\n"
     ]
    }
   ],
   "source": [
    "df_prices_h = csvs_to_df(path_prices, \"Day-ahead Prices\")\n",
    "df_demand_fif = csvs_to_df(path_demand, \"Total Load - Day Ahead\")\n",
    "df_demand_h = df_demand_fif.iloc[3::4,:].reset_index().drop('index', axis=1)\n",
    "df_generation_h = csvs_to_df(path_generation, \"Generation Forecast - Day ahead\")\n",
    "\n",
    "df_prices_h= delta_to_datetime(df_prices_h, 'Time')\n",
    "df_demand_h = delta_to_datetime(df_demand_h, 'Time')\n",
    "df_generation_h = delta_to_datetime(df_generation_h, 'Time')\n",
    "\n",
    "df_prices_h=na_to_mean(df_prices_h)\n",
    "df_demand_h=na_to_mean(df_demand_h)\n",
    "df_generation_h=na_to_mean(df_generation_h)\n",
    "\n"
   ],
   "metadata": {
    "collapsed": false
   }
  },
  {
   "cell_type": "code",
   "execution_count": 8,
   "outputs": [],
   "source": [
    "df_prices_h=df_prices_h.set_index('Time')\n",
    "df_demand_h=df_demand_h.set_index('Time')\n",
    "df_generation_h=df_generation_h.set_index('Time')"
   ],
   "metadata": {
    "collapsed": false
   }
  },
  {
   "cell_type": "code",
   "execution_count": 9,
   "outputs": [],
   "source": [
    "df_prices_h = df_prices_h['Day-ahead Price [EUR/MWh]']\n",
    "df_demand_h = df_demand_h['Day-ahead Total Load Forecast [MW] - BZN|BE']\n",
    "df_generation_h = df_generation_h['Scheduled Generation [MW] (D) - BZN|BE']\n"
   ],
   "metadata": {
    "collapsed": false
   }
  },
  {
   "cell_type": "code",
   "execution_count": 10,
   "outputs": [
    {
     "data": {
      "text/plain": "<AxesSubplot:xlabel='Time'>"
     },
     "execution_count": 10,
     "metadata": {},
     "output_type": "execute_result"
    },
    {
     "data": {
      "text/plain": "<Figure size 432x288 with 1 Axes>",
      "image/png": "[encoded data removed]"
     },
     "metadata": {
      "needs_background": "light"
     },
     "output_type": "display_data"
    }
   ],
   "source": [
    "df_prices_h.rolling(365).mean().plot()"
   ],
   "metadata": {
    "collapsed": false
   }
  },
  {
   "cell_type": "code",
   "execution_count": 40,
   "outputs": [
    {
     "ename": "TypeError",
     "evalue": "unsupported operand type(s) for /: 'AxesSubplot' and 'float'",
     "output_type": "error",
     "traceback": [
      "\u001B[0;31m---------------------------------------------------------------------------\u001B[0m",
      "\u001B[0;31mTypeError\u001B[0m                                 Traceback (most recent call last)",
      "Input \u001B[0;32mIn [40]\u001B[0m, in \u001B[0;36m<cell line: 1>\u001B[0;34m()\u001B[0m\n\u001B[0;32m----> 1\u001B[0m \u001B[43mdf_generation_h\u001B[49m\u001B[38;5;241;43m.\u001B[39;49m\u001B[43mrolling\u001B[49m\u001B[43m(\u001B[49m\u001B[38;5;241;43m180\u001B[39;49m\u001B[43m)\u001B[49m\u001B[38;5;241;43m.\u001B[39;49m\u001B[43mmean\u001B[49m\u001B[43m(\u001B[49m\u001B[43m)\u001B[49m\u001B[38;5;241;43m.\u001B[39;49m\u001B[43mplot\u001B[49m\u001B[43m(\u001B[49m\u001B[43m)\u001B[49m\u001B[38;5;241;43m/\u001B[39;49m\u001B[43mnp\u001B[49m\u001B[38;5;241;43m.\u001B[39;49m\u001B[43mstd\u001B[49m\u001B[43m(\u001B[49m\u001B[43mdf_generation_h\u001B[49m\u001B[43m)\u001B[49m\n\u001B[1;32m      2\u001B[0m df_demand_h\u001B[38;5;241m.\u001B[39mrolling(\u001B[38;5;241m180\u001B[39m)\u001B[38;5;241m.\u001B[39mmean()\u001B[38;5;241m.\u001B[39mplot()\n",
      "\u001B[0;31mTypeError\u001B[0m: unsupported operand type(s) for /: 'AxesSubplot' and 'float'"
     ]
    },
    {
     "data": {
      "text/plain": "<Figure size 640x480 with 1 Axes>",
      "image/png": "[encoded data removed]"
     },
     "metadata": {},
     "output_type": "display_data"
    }
   ],
   "source": [
    "df_generation_h.rolling(180).mean().plot()/np.std(df_generation_h)\n",
    "df_demand_h.rolling(180).mean().plot()"
   ],
   "metadata": {
    "collapsed": false
   }
  },
  {
   "cell_type": "code",
   "execution_count": null,
   "outputs": [],
   "source": [
    "df_prices_h.to_csv(path_prices+\"/df_prices_h.csv\")\n",
    "df_demand_h.to_csv(path_demand+\"/df_demand_h.csv\")\n",
    "df_generation_h.to_csv(path_generation+\"/df_generation_h.csv\")"
   ],
   "metadata": {
    "collapsed": false
   }
  },
  {
   "cell_type": "code",
   "execution_count": 11,
   "outputs": [
    {
     "ename": "NameError",
     "evalue": "name 'LEAR' is not defined",
     "output_type": "error",
     "traceback": [
      "\u001B[0;31m---------------------------------------------------------------------------\u001B[0m",
      "\u001B[0;31mNameError\u001B[0m                                 Traceback (most recent call last)",
      "Input \u001B[0;32mIn [11]\u001B[0m, in \u001B[0;36m<cell line: 1>\u001B[0;34m()\u001B[0m\n\u001B[0;32m----> 1\u001B[0m mdl \u001B[38;5;241m=\u001B[39m \u001B[43mLEAR\u001B[49m()\n",
      "\u001B[0;31mNameError\u001B[0m: name 'LEAR' is not defined"
     ]
    }
   ],
   "source": [
    "mdl = LEAR()"
   ],
   "metadata": {
    "collapsed": false
   }
  },
  {
   "cell_type": "code",
   "execution_count": 14,
   "outputs": [
    {
     "ename": "NameError",
     "evalue": "name 'LEAR' is not defined",
     "output_type": "error",
     "traceback": [
      "\u001B[0;31m---------------------------------------------------------------------------\u001B[0m",
      "\u001B[0;31mNameError\u001B[0m                                 Traceback (most recent call last)",
      "Input \u001B[0;32mIn [14]\u001B[0m, in \u001B[0;36m<cell line: 1>\u001B[0;34m()\u001B[0m\n\u001B[0;32m----> 1\u001B[0m \u001B[43mLEAR\u001B[49m()\n",
      "\u001B[0;31mNameError\u001B[0m: name 'LEAR' is not defined"
     ]
    }
   ],
   "source": [],
   "metadata": {
    "collapsed": false
   }
  },
  {
   "cell_type": "code",
   "execution_count": 8,
   "outputs": [
    {
     "name": "stdout",
     "output_type": "stream",
     "text": [
      "Time                                           datetime64[ns]\n",
      "Day-ahead Total Load Forecast [MW] - BZN|BE           float64\n",
      "Actual Total Load [MW] - BZN|BE                        object\n",
      "dtype: object\n",
      "Day-ahead Total Load Forecast [MW] - BZN|BE\n"
     ]
    },
    {
     "data": {
      "text/plain": "                     Time  Day-ahead Total Load Forecast [MW] - BZN|BE  \\\n0     2017-01-01 01:00:00                                       9064.0   \n1     2017-01-01 02:00:00                                       8823.0   \n2     2017-01-01 03:00:00                                       8491.0   \n3     2017-01-01 04:00:00                                       8182.0   \n4     2017-01-01 05:00:00                                       8049.0   \n...                   ...                                          ...   \n61370 2020-12-31 20:00:00                                      10203.0   \n61371 2020-12-31 21:00:00                                       9700.0   \n61372 2020-12-31 22:00:00                                       9327.0   \n61373 2020-12-31 23:00:00                                       9654.0   \n61374 2021-01-01 00:00:00                                       9397.0   \n\n      Actual Total Load [MW] - BZN|BE  \n0                             10001.0  \n1                              9585.0  \n2                              9186.0  \n3                              8858.0  \n4                              8591.0  \n...                               ...  \n61370                         10110.0  \n61371                          9655.0  \n61372                          9271.0  \n61373                          9626.0  \n61374                          9546.0  \n\n[61375 rows x 3 columns]",
      "text/html": "<div>\n<style scoped>\n    .dataframe tbody tr th:only-of-type {\n        vertical-align: middle;\n    }\n\n    .dataframe tbody tr th {\n        vertical-align: top;\n    }\n\n    .dataframe thead th {\n        text-align: right;\n    }\n</style>\n<table border=\"1\" class=\"dataframe\">\n  <thead>\n    <tr style=\"text-align: right;\">\n      <th></th>\n      <th>Time</th>\n      <th>Day-ahead Total Load Forecast [MW] - BZN|BE</th>\n      <th>Actual Total Load [MW] - BZN|BE</th>\n    </tr>\n  </thead>\n  <tbody>\n    <tr>\n      <th>0</th>\n      <td>2017-01-01 01:00:00</td>\n      <td>9064.0</td>\n      <td>10001.0</td>\n    </tr>\n    <tr>\n      <th>1</th>\n      <td>2017-01-01 02:00:00</td>\n      <td>8823.0</td>\n      <td>9585.0</td>\n    </tr>\n    <tr>\n      <th>2</th>\n      <td>2017-01-01 03:00:00</td>\n      <td>8491.0</td>\n      <td>9186.0</td>\n    </tr>\n    <tr>\n      <th>3</th>\n      <td>2017-01-01 04:00:00</td>\n      <td>8182.0</td>\n      <td>8858.0</td>\n    </tr>\n    <tr>\n      <th>4</th>\n      <td>2017-01-01 05:00:00</td>\n      <td>8049.0</td>\n      <td>8591.0</td>\n    </tr>\n    <tr>\n      <th>...</th>\n      <td>...</td>\n      <td>...</td>\n      <td>...</td>\n    </tr>\n    <tr>\n      <th>61370</th>\n      <td>2020-12-31 20:00:00</td>\n      <td>10203.0</td>\n      <td>10110.0</td>\n    </tr>\n    <tr>\n      <th>61371</th>\n      <td>2020-12-31 21:00:00</td>\n      <td>9700.0</td>\n      <td>9655.0</td>\n    </tr>\n    <tr>\n      <th>61372</th>\n      <td>2020-12-31 22:00:00</td>\n      <td>9327.0</td>\n      <td>9271.0</td>\n    </tr>\n    <tr>\n      <th>61373</th>\n      <td>2020-12-31 23:00:00</td>\n      <td>9654.0</td>\n      <td>9626.0</td>\n    </tr>\n    <tr>\n      <th>61374</th>\n      <td>2021-01-01 00:00:00</td>\n      <td>9397.0</td>\n      <td>9546.0</td>\n    </tr>\n  </tbody>\n</table>\n<p>61375 rows × 3 columns</p>\n</div>"
     },
     "execution_count": 8,
     "metadata": {},
     "output_type": "execute_result"
    }
   ],
   "source": [
    "test = df_demand_h.copy()\n",
    "print(test.dtypes)\n",
    "print(test.columns[1])\n",
    "test"
   ],
   "metadata": {
    "collapsed": false
   }
  },
  {
   "cell_type": "code",
   "execution_count": null,
   "outputs": [],
   "source": [],
   "metadata": {
    "collapsed": false
   }
  },
  {
   "cell_type": "code",
   "execution_count": 208,
   "outputs": [
    {
     "data": {
      "text/plain": "        index                Time  \\\n0           3 2017-01-01 01:00:00   \n1           7 2017-01-01 02:00:00   \n2          11 2017-01-01 03:00:00   \n3          15 2017-01-01 04:00:00   \n4          19 2017-01-01 05:00:00   \n...       ...                 ...   \n61370  245483 2020-12-31 20:00:00   \n61371  245487 2020-12-31 21:00:00   \n61372  245491 2020-12-31 22:00:00   \n61373  245495 2020-12-31 23:00:00   \n61374  245499 2021-01-01 00:00:00   \n\n       Day-ahead Total Load Forecast [MW] - BZN|BE  \\\n0                                           9064.0   \n1                                           8823.0   \n2                                           8491.0   \n3                                           8182.0   \n4                                           8049.0   \n...                                            ...   \n61370                                      10203.0   \n61371                                       9700.0   \n61372                                       9327.0   \n61373                                       9654.0   \n61374                                       9397.0   \n\n      Actual Total Load [MW] - BZN|BE  \n0                             10001.0  \n1                              9585.0  \n2                              9186.0  \n3                              8858.0  \n4                              8591.0  \n...                               ...  \n61370                         10110.0  \n61371                          9655.0  \n61372                          9271.0  \n61373                          9626.0  \n61374                          9546.0  \n\n[61375 rows x 4 columns]",
      "text/html": "<div>\n<style scoped>\n    .dataframe tbody tr th:only-of-type {\n        vertical-align: middle;\n    }\n\n    .dataframe tbody tr th {\n        vertical-align: top;\n    }\n\n    .dataframe thead th {\n        text-align: right;\n    }\n</style>\n<table border=\"1\" class=\"dataframe\">\n  <thead>\n    <tr style=\"text-align: right;\">\n      <th></th>\n      <th>index</th>\n      <th>Time</th>\n      <th>Day-ahead Total Load Forecast [MW] - BZN|BE</th>\n      <th>Actual Total Load [MW] - BZN|BE</th>\n    </tr>\n  </thead>\n  <tbody>\n    <tr>\n      <th>0</th>\n      <td>3</td>\n      <td>2017-01-01 01:00:00</td>\n      <td>9064.0</td>\n      <td>10001.0</td>\n    </tr>\n    <tr>\n      <th>1</th>\n      <td>7</td>\n      <td>2017-01-01 02:00:00</td>\n      <td>8823.0</td>\n      <td>9585.0</td>\n    </tr>\n    <tr>\n      <th>2</th>\n      <td>11</td>\n      <td>2017-01-01 03:00:00</td>\n      <td>8491.0</td>\n      <td>9186.0</td>\n    </tr>\n    <tr>\n      <th>3</th>\n      <td>15</td>\n      <td>2017-01-01 04:00:00</td>\n      <td>8182.0</td>\n      <td>8858.0</td>\n    </tr>\n    <tr>\n      <th>4</th>\n      <td>19</td>\n      <td>2017-01-01 05:00:00</td>\n      <td>8049.0</td>\n      <td>8591.0</td>\n    </tr>\n    <tr>\n      <th>...</th>\n      <td>...</td>\n      <td>...</td>\n      <td>...</td>\n      <td>...</td>\n    </tr>\n    <tr>\n      <th>61370</th>\n      <td>245483</td>\n      <td>2020-12-31 20:00:00</td>\n      <td>10203.0</td>\n      <td>10110.0</td>\n    </tr>\n    <tr>\n      <th>61371</th>\n      <td>245487</td>\n      <td>2020-12-31 21:00:00</td>\n      <td>9700.0</td>\n      <td>9655.0</td>\n    </tr>\n    <tr>\n      <th>61372</th>\n      <td>245491</td>\n      <td>2020-12-31 22:00:00</td>\n      <td>9327.0</td>\n      <td>9271.0</td>\n    </tr>\n    <tr>\n      <th>61373</th>\n      <td>245495</td>\n      <td>2020-12-31 23:00:00</td>\n      <td>9654.0</td>\n      <td>9626.0</td>\n    </tr>\n    <tr>\n      <th>61374</th>\n      <td>245499</td>\n      <td>2021-01-01 00:00:00</td>\n      <td>9397.0</td>\n      <td>9546.0</td>\n    </tr>\n  </tbody>\n</table>\n<p>61375 rows × 4 columns</p>\n</div>"
     },
     "execution_count": 208,
     "metadata": {},
     "output_type": "execute_result"
    }
   ],
   "source": [
    "df_demand_h"
   ],
   "metadata": {
    "collapsed": false
   }
  },
  {
   "cell_type": "code",
   "execution_count": 209,
   "outputs": [
    {
     "data": {
      "text/plain": "Empty DataFrame\nColumns: [Time, Day-ahead Price [EUR/MWh], Currency, BZN|BE]\nIndex: []",
      "text/html": "<div>\n<style scoped>\n    .dataframe tbody tr th:only-of-type {\n        vertical-align: middle;\n    }\n\n    .dataframe tbody tr th {\n        vertical-align: top;\n    }\n\n    .dataframe thead th {\n        text-align: right;\n    }\n</style>\n<table border=\"1\" class=\"dataframe\">\n  <thead>\n    <tr style=\"text-align: right;\">\n      <th></th>\n      <th>Time</th>\n      <th>Day-ahead Price [EUR/MWh]</th>\n      <th>Currency</th>\n      <th>BZN|BE</th>\n    </tr>\n  </thead>\n  <tbody>\n  </tbody>\n</table>\n</div>"
     },
     "execution_count": 209,
     "metadata": {},
     "output_type": "execute_result"
    }
   ],
   "source": [
    "df_p_na = df_prices_h.loc[df_prices_h[df_prices_h.columns[1]].isna()==True].sort_values('Time')\n",
    "df_p_na"
   ],
   "metadata": {
    "collapsed": false
   }
  },
  {
   "cell_type": "code",
   "execution_count": 189,
   "outputs": [
    {
     "name": "stderr",
     "output_type": "stream",
     "text": [
      "/var/folders/h9/3f0fc1qs2t3943x127_ynxmc0000gn/T/ipykernel_12307/3212621681.py:2: SettingWithCopyWarning: \n",
      "A value is trying to be set on a copy of a slice from a DataFrame\n",
      "\n",
      "See the caveats in the documentation: https://pandas.pydata.org/pandas-docs/stable/user_guide/indexing.html#returning-a-view-versus-a-copy\n",
      "  test_copy[test_copy.columns[1]][i]=(test_copy[test_copy.columns[1]][i-1]+test_copy[test_copy.columns[1]][i+1])/2\n"
     ]
    }
   ],
   "source": [
    "for i in df_p_na.index:\n",
    "    df_prices_h[df_prices_h.columns[1]][i]=(df_prices_h[df_prices_h.columns[1]][i-1]+df_prices_h[df_prices_h.columns[1]][i+1])/2"
   ],
   "metadata": {
    "collapsed": false
   }
  },
  {
   "cell_type": "code",
   "execution_count": 192,
   "outputs": [
    {
     "data": {
      "text/plain": "Time   Day-ahead Price [EUR/MWh]  Currency  BZN|BE\nFalse  False                      False     True      60409\n                                  True      True        966\ndtype: int64"
     },
     "execution_count": 192,
     "metadata": {},
     "output_type": "execute_result"
    }
   ],
   "source": [
    "test_copy.isna().value_counts()"
   ],
   "metadata": {
    "collapsed": false
   }
  },
  {
   "cell_type": "code",
   "execution_count": 212,
   "outputs": [
    {
     "data": {
      "text/plain": "Empty DataFrame\nColumns: [Time, Day-ahead Total Load Forecast [MW] - BZN|BE, Actual Total Load [MW] - BZN|BE]\nIndex: []",
      "text/html": "<div>\n<style scoped>\n    .dataframe tbody tr th:only-of-type {\n        vertical-align: middle;\n    }\n\n    .dataframe tbody tr th {\n        vertical-align: top;\n    }\n\n    .dataframe thead th {\n        text-align: right;\n    }\n</style>\n<table border=\"1\" class=\"dataframe\">\n  <thead>\n    <tr style=\"text-align: right;\">\n      <th></th>\n      <th>Time</th>\n      <th>Day-ahead Total Load Forecast [MW] - BZN|BE</th>\n      <th>Actual Total Load [MW] - BZN|BE</th>\n    </tr>\n  </thead>\n  <tbody>\n  </tbody>\n</table>\n</div>"
     },
     "execution_count": 212,
     "metadata": {},
     "output_type": "execute_result"
    }
   ],
   "source": [
    "df_demand_h.loc[df_demand_h[df_demand_h.columns[1]].isna()==True].sort_values('Time')"
   ],
   "metadata": {
    "collapsed": false
   }
  },
  {
   "cell_type": "code",
   "execution_count": 123,
   "outputs": [
    {
     "data": {
      "text/plain": "                     Time Scheduled Generation [MW] (D) - BZN|BE  \\\n54656 2016-03-27 03:00:00                                    NaN   \n45847 2017-03-26 03:00:00                                    NaN   \n37062 2018-03-25 03:00:00                                    NaN   \n2138  2019-03-31 03:00:00                                    NaN   \n10875 2020-03-29 03:00:00                                    NaN   \n28373 2021-03-28 03:00:00                                    NaN   \n19588 2022-03-27 03:00:00                                    NaN   \n\n      Scheduled Consumption [MW] (D) - BZN|BE  \n54656                                     NaN  \n45847                                     NaN  \n37062                                     NaN  \n2138                                      NaN  \n10875                                     NaN  \n28373                                     NaN  \n19588                                     NaN  ",
      "text/html": "<div>\n<style scoped>\n    .dataframe tbody tr th:only-of-type {\n        vertical-align: middle;\n    }\n\n    .dataframe tbody tr th {\n        vertical-align: top;\n    }\n\n    .dataframe thead th {\n        text-align: right;\n    }\n</style>\n<table border=\"1\" class=\"dataframe\">\n  <thead>\n    <tr style=\"text-align: right;\">\n      <th></th>\n      <th>Time</th>\n      <th>Scheduled Generation [MW] (D) - BZN|BE</th>\n      <th>Scheduled Consumption [MW] (D) - BZN|BE</th>\n    </tr>\n  </thead>\n  <tbody>\n    <tr>\n      <th>54656</th>\n      <td>2016-03-27 03:00:00</td>\n      <td>NaN</td>\n      <td>NaN</td>\n    </tr>\n    <tr>\n      <th>45847</th>\n      <td>2017-03-26 03:00:00</td>\n      <td>NaN</td>\n      <td>NaN</td>\n    </tr>\n    <tr>\n      <th>37062</th>\n      <td>2018-03-25 03:00:00</td>\n      <td>NaN</td>\n      <td>NaN</td>\n    </tr>\n    <tr>\n      <th>2138</th>\n      <td>2019-03-31 03:00:00</td>\n      <td>NaN</td>\n      <td>NaN</td>\n    </tr>\n    <tr>\n      <th>10875</th>\n      <td>2020-03-29 03:00:00</td>\n      <td>NaN</td>\n      <td>NaN</td>\n    </tr>\n    <tr>\n      <th>28373</th>\n      <td>2021-03-28 03:00:00</td>\n      <td>NaN</td>\n      <td>NaN</td>\n    </tr>\n    <tr>\n      <th>19588</th>\n      <td>2022-03-27 03:00:00</td>\n      <td>NaN</td>\n      <td>NaN</td>\n    </tr>\n  </tbody>\n</table>\n</div>"
     },
     "execution_count": 123,
     "metadata": {},
     "output_type": "execute_result"
    }
   ],
   "source": [
    "df_generation_h.loc[df_generation_h[df_generation_h.columns[1]].isna()==True].sort_values('Time')"
   ],
   "metadata": {
    "collapsed": false
   }
  },
  {
   "cell_type": "code",
   "execution_count": 53,
   "outputs": [],
   "source": [
    "string = \"01.01.2020 00:00 - 01.01.2020 01:00\""
   ],
   "metadata": {
    "collapsed": false
   }
  },
  {
   "cell_type": "code",
   "execution_count": 1,
   "outputs": [
    {
     "ename": "NameError",
     "evalue": "name 'string' is not defined",
     "output_type": "error",
     "traceback": [
      "\u001B[0;31m---------------------------------------------------------------------------\u001B[0m",
      "\u001B[0;31mNameError\u001B[0m                                 Traceback (most recent call last)",
      "Input \u001B[0;32mIn [1]\u001B[0m, in \u001B[0;36m<cell line: 1>\u001B[0;34m()\u001B[0m\n\u001B[0;32m----> 1\u001B[0m \u001B[43mstring\u001B[49m[\u001B[38;5;241m19\u001B[39m:]\n",
      "\u001B[0;31mNameError\u001B[0m: name 'string' is not defined"
     ]
    }
   ],
   "source": [
    "string[19:]"
   ],
   "metadata": {
    "collapsed": false
   }
  },
  {
   "cell_type": "code",
   "execution_count": 32,
   "outputs": [
    {
     "data": {
      "text/plain": "Time                                           datetime64[ns]\nDay-ahead Total Load Forecast [MW] - BZN|BE           float64\nActual Total Load [MW] - BZN|BE                        object\ndtype: object"
     },
     "execution_count": 32,
     "metadata": {},
     "output_type": "execute_result"
    }
   ],
   "source": [
    "df_demand_h.dtypes"
   ],
   "metadata": {
    "collapsed": false
   }
  },
  {
   "cell_type": "code",
   "execution_count": null,
   "outputs": [],
   "source": [],
   "metadata": {
    "collapsed": false
   }
  }
 ],
 "metadata": {
  "kernelspec": {
   "display_name": "Python 3 (ipykernel)",
   "language": "python",
   "name": "python3"
  },
  "language_info": {
   "codemirror_mode": {
    "name": "ipython",
    "version": 3
   },
   "file_extension": ".py",
   "mimetype": "text/x-python",
   "name": "python",
   "nbconvert_exporter": "python",
   "pygments_lexer": "ipython3",
   "version": "3.10.4"
  }
 },
 "nbformat": 4,
 "nbformat_minor": 5
}
