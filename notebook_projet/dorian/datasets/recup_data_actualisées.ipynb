{
 "cells": [
  {
   "cell_type": "code",
   "execution_count": 6,
   "metadata": {},
   "outputs": [],
   "source": [
    "import entsoe as ent\n",
    "import pandas as pd\n",
    "#from epftoolbox.data import read_data\n",
    "import numpy as np\n",
    "from datetime import *"
   ]
  },
  {
   "cell_type": "code",
   "execution_count": 2,
   "metadata": {},
   "outputs": [],
   "source": []
  },
  {
   "cell_type": "code",
   "execution_count": 3,
   "metadata": {},
   "outputs": [],
   "source": [
    "client = ent.EntsoePandasClient(api_key='4e524938-86d0-4232-81a9-4c2aaf8cdceb')\n",
    "\n",
    "country_code='BE'\n",
    "timezone = 'Europe/Brussels'\n",
    "start_date = pd.to_datetime('2018-12-31')\n",
    "end_date = pd.to_datetime(date.today()+timedelta(days=4))"
   ]
  },
  {
   "cell_type": "code",
   "execution_count": 4,
   "metadata": {},
   "outputs": [],
   "source": [
    "df_price = client.query_day_ahead_prices(country_code=country_code, start=start_date.tz_localize(timezone),end=end_date.tz_localize(timezone))\n",
    "#df_price = pd.DataFrame(df_price, columns=['Price'])"
   ]
  },
  {
   "cell_type": "code",
   "execution_count": 5,
   "metadata": {},
   "outputs": [
    {
     "data": {
      "text/plain": "2018-12-31 00:00:00+01:00     50.94\n2018-12-31 01:00:00+01:00     49.57\n2018-12-31 02:00:00+01:00     48.32\n2018-12-31 03:00:00+01:00     45.89\n2018-12-31 04:00:00+01:00     45.47\n                              ...  \n2023-01-05 19:00:00+01:00    177.98\n2023-01-05 20:00:00+01:00    163.99\n2023-01-05 21:00:00+01:00    152.00\n2023-01-05 22:00:00+01:00    144.64\n2023-01-05 23:00:00+01:00    127.00\nLength: 35208, dtype: float64"
     },
     "execution_count": 5,
     "metadata": {},
     "output_type": "execute_result"
    }
   ],
   "source": [
    "df_price"
   ]
  },
  {
   "cell_type": "code",
   "execution_count": 6,
   "metadata": {},
   "outputs": [],
   "source": [
    "df_load = client.query_load_forecast(country_code=country_code, start=start_date.tz_localize(timezone),end=end_date.tz_localize(timezone))\n",
    "#df_load=pd.DataFrame(df_load, columns=['Exogenous 2'])"
   ]
  },
  {
   "cell_type": "code",
   "execution_count": 7,
   "metadata": {},
   "outputs": [],
   "source": [
    "df_generation = client.query_generation_forecast(country_code=country_code, start=start_date.tz_localize(timezone),end=end_date.tz_localize(timezone))\n",
    "#df_generation=pd.DataFrame(df_generation, columns=['Exogenous 1'])"
   ]
  },
  {
   "cell_type": "code",
   "execution_count": 8,
   "metadata": {},
   "outputs": [],
   "source": [
    "df_price=pd.DataFrame(df_price, columns=['Price'])"
   ]
  },
  {
   "cell_type": "code",
   "execution_count": 9,
   "metadata": {},
   "outputs": [],
   "source": [
    "df_all = pd.merge_asof(df_price, pd.merge_asof(df_load, df_generation, left_index=True, right_index=True), left_index=True, right_index=True)\n"
   ]
  },
  {
   "cell_type": "code",
   "execution_count": 10,
   "metadata": {},
   "outputs": [],
   "source": [
    "df_all.columns = ['Price', 'Exogenous 2', 'Exogenous 1']\n",
    "#df_all.index = df_all.index.tz_localize(None)"
   ]
  },
  {
   "cell_type": "code",
   "execution_count": 11,
   "metadata": {},
   "outputs": [
    {
     "data": {
      "text/plain": "                            Price  Exogenous 2  Exogenous 1\n2018-12-31 00:00:00+01:00   50.94       8675.0       5544.0\n2018-12-31 01:00:00+01:00   49.57       8560.0       4866.0\n2018-12-31 02:00:00+01:00   48.32       8204.0       4153.0\n2018-12-31 03:00:00+01:00   45.89       7965.0       4667.0\n2018-12-31 04:00:00+01:00   45.47       7911.0       4737.0\n...                           ...          ...          ...\n2023-01-05 19:00:00+01:00  177.98      10551.0      11945.0\n2023-01-05 20:00:00+01:00  163.99       9994.0      10940.0\n2023-01-05 21:00:00+01:00  152.00       9514.0       9758.0\n2023-01-05 22:00:00+01:00  144.64       9393.0       9504.0\n2023-01-05 23:00:00+01:00  127.00       9559.0       9421.0\n\n[35208 rows x 3 columns]",
      "text/html": "<div>\n<style scoped>\n    .dataframe tbody tr th:only-of-type {\n        vertical-align: middle;\n    }\n\n    .dataframe tbody tr th {\n        vertical-align: top;\n    }\n\n    .dataframe thead th {\n        text-align: right;\n    }\n</style>\n<table border=\"1\" class=\"dataframe\">\n  <thead>\n    <tr style=\"text-align: right;\">\n      <th></th>\n      <th>Price</th>\n      <th>Exogenous 2</th>\n      <th>Exogenous 1</th>\n    </tr>\n  </thead>\n  <tbody>\n    <tr>\n      <th>2018-12-31 00:00:00+01:00</th>\n      <td>50.94</td>\n      <td>8675.0</td>\n      <td>5544.0</td>\n    </tr>\n    <tr>\n      <th>2018-12-31 01:00:00+01:00</th>\n      <td>49.57</td>\n      <td>8560.0</td>\n      <td>4866.0</td>\n    </tr>\n    <tr>\n      <th>2018-12-31 02:00:00+01:00</th>\n      <td>48.32</td>\n      <td>8204.0</td>\n      <td>4153.0</td>\n    </tr>\n    <tr>\n      <th>2018-12-31 03:00:00+01:00</th>\n      <td>45.89</td>\n      <td>7965.0</td>\n      <td>4667.0</td>\n    </tr>\n    <tr>\n      <th>2018-12-31 04:00:00+01:00</th>\n      <td>45.47</td>\n      <td>7911.0</td>\n      <td>4737.0</td>\n    </tr>\n    <tr>\n      <th>...</th>\n      <td>...</td>\n      <td>...</td>\n      <td>...</td>\n    </tr>\n    <tr>\n      <th>2023-01-05 19:00:00+01:00</th>\n      <td>177.98</td>\n      <td>10551.0</td>\n      <td>11945.0</td>\n    </tr>\n    <tr>\n      <th>2023-01-05 20:00:00+01:00</th>\n      <td>163.99</td>\n      <td>9994.0</td>\n      <td>10940.0</td>\n    </tr>\n    <tr>\n      <th>2023-01-05 21:00:00+01:00</th>\n      <td>152.00</td>\n      <td>9514.0</td>\n      <td>9758.0</td>\n    </tr>\n    <tr>\n      <th>2023-01-05 22:00:00+01:00</th>\n      <td>144.64</td>\n      <td>9393.0</td>\n      <td>9504.0</td>\n    </tr>\n    <tr>\n      <th>2023-01-05 23:00:00+01:00</th>\n      <td>127.00</td>\n      <td>9559.0</td>\n      <td>9421.0</td>\n    </tr>\n  </tbody>\n</table>\n<p>35208 rows × 3 columns</p>\n</div>"
     },
     "execution_count": 11,
     "metadata": {},
     "output_type": "execute_result"
    }
   ],
   "source": [
    "df_all"
   ]
  },
  {
   "cell_type": "code",
   "execution_count": 59,
   "metadata": {},
   "outputs": [],
   "source": [
    "df_all.to_csv('/Users/dorianfitton/Documents/Cours_Télécom/fil_rouge/fil_rouge/notebook_projet/dorian/datasets/df_all.csv')"
   ]
  },
  {
   "cell_type": "code",
   "execution_count": 60,
   "metadata": {},
   "outputs": [],
   "source": [
    "df_all.to_pickle('/Users/dorianfitton/Documents/Cours_Télécom/fil_rouge/fil_rouge/notebook_projet/dorian/datasets/df_all')"
   ]
  },
  {
   "cell_type": "code",
   "execution_count": 1,
   "metadata": {},
   "outputs": [],
   "source": [
    "from epftoolbox.data._datasets import read_data_refreshed"
   ]
  },
  {
   "cell_type": "code",
   "execution_count": 2,
   "outputs": [
    {
     "name": "stdout",
     "output_type": "stream",
     "text": [
      "Test datasets: 2021-12-31 00:00:00 - 2022-01-31 23:00:00\n"
     ]
    },
    {
     "name": "stderr",
     "output_type": "stream",
     "text": [
      "/Users/dorianfitton/Documents/Cours_Télécom/fil_rouge/fil_rouge/epftoolbox/data/_datasets.py:206: FutureWarning: Indexing a timezone-aware DatetimeIndex with a timezone-naive datetime is deprecated and will raise KeyError in a future version. Use a timezone-aware object instead.\n",
      "  df_train = df_all.loc[:begin_test_date - pd.Timedelta(hours=1), :]\n",
      "/Users/dorianfitton/Documents/Cours_Télécom/fil_rouge/fil_rouge/epftoolbox/data/_datasets.py:207: FutureWarning: Indexing a timezone-aware DatetimeIndex with a timezone-naive datetime is deprecated and will raise KeyError in a future version. Use a timezone-aware object instead.\n",
      "  df_test = df_all.loc[begin_test_date:end_test_date, :]\n"
     ]
    }
   ],
   "source": [
    "from epftoolbox.data._datasets import read_data_refreshed\n",
    "df_train, df_test = read_data_refreshed(begin_test_date='2021-12-31', end_test_date='2022-01-31')"
   ],
   "metadata": {
    "collapsed": false
   }
  },
  {
   "cell_type": "code",
   "execution_count": 3,
   "outputs": [
    {
     "data": {
      "text/plain": "                           Price  Exogenous 2  Exogenous 1\n2018-12-31 00:00:00+01:00  50.94       8675.0       5544.0\n2018-12-31 01:00:00+01:00  49.57       8560.0       4866.0\n2018-12-31 02:00:00+01:00  48.32       8204.0       4153.0\n2018-12-31 03:00:00+01:00  45.89       7965.0       4667.0\n2018-12-31 04:00:00+01:00  45.47       7911.0       4737.0\n...                          ...          ...          ...\n2021-12-30 19:00:00+01:00  50.57      10408.0      11382.0\n2021-12-30 20:00:00+01:00  94.18       9854.0      11280.0\n2021-12-30 21:00:00+01:00  46.26       9418.0       9849.0\n2021-12-30 22:00:00+01:00  10.83       9349.0       9270.0\n2021-12-30 23:00:00+01:00   0.82       9611.0       9510.0\n\n[26304 rows x 3 columns]",
      "text/html": "<div>\n<style scoped>\n    .dataframe tbody tr th:only-of-type {\n        vertical-align: middle;\n    }\n\n    .dataframe tbody tr th {\n        vertical-align: top;\n    }\n\n    .dataframe thead th {\n        text-align: right;\n    }\n</style>\n<table border=\"1\" class=\"dataframe\">\n  <thead>\n    <tr style=\"text-align: right;\">\n      <th></th>\n      <th>Price</th>\n      <th>Exogenous 2</th>\n      <th>Exogenous 1</th>\n    </tr>\n  </thead>\n  <tbody>\n    <tr>\n      <th>2018-12-31 00:00:00+01:00</th>\n      <td>50.94</td>\n      <td>8675.0</td>\n      <td>5544.0</td>\n    </tr>\n    <tr>\n      <th>2018-12-31 01:00:00+01:00</th>\n      <td>49.57</td>\n      <td>8560.0</td>\n      <td>4866.0</td>\n    </tr>\n    <tr>\n      <th>2018-12-31 02:00:00+01:00</th>\n      <td>48.32</td>\n      <td>8204.0</td>\n      <td>4153.0</td>\n    </tr>\n    <tr>\n      <th>2018-12-31 03:00:00+01:00</th>\n      <td>45.89</td>\n      <td>7965.0</td>\n      <td>4667.0</td>\n    </tr>\n    <tr>\n      <th>2018-12-31 04:00:00+01:00</th>\n      <td>45.47</td>\n      <td>7911.0</td>\n      <td>4737.0</td>\n    </tr>\n    <tr>\n      <th>...</th>\n      <td>...</td>\n      <td>...</td>\n      <td>...</td>\n    </tr>\n    <tr>\n      <th>2021-12-30 19:00:00+01:00</th>\n      <td>50.57</td>\n      <td>10408.0</td>\n      <td>11382.0</td>\n    </tr>\n    <tr>\n      <th>2021-12-30 20:00:00+01:00</th>\n      <td>94.18</td>\n      <td>9854.0</td>\n      <td>11280.0</td>\n    </tr>\n    <tr>\n      <th>2021-12-30 21:00:00+01:00</th>\n      <td>46.26</td>\n      <td>9418.0</td>\n      <td>9849.0</td>\n    </tr>\n    <tr>\n      <th>2021-12-30 22:00:00+01:00</th>\n      <td>10.83</td>\n      <td>9349.0</td>\n      <td>9270.0</td>\n    </tr>\n    <tr>\n      <th>2021-12-30 23:00:00+01:00</th>\n      <td>0.82</td>\n      <td>9611.0</td>\n      <td>9510.0</td>\n    </tr>\n  </tbody>\n</table>\n<p>26304 rows × 3 columns</p>\n</div>"
     },
     "execution_count": 3,
     "metadata": {},
     "output_type": "execute_result"
    }
   ],
   "source": [
    "df_train"
   ],
   "metadata": {
    "collapsed": false
   }
  },
  {
   "cell_type": "code",
   "execution_count": 4,
   "outputs": [
    {
     "data": {
      "text/plain": "                            Price  Exogenous 2  Exogenous 1\n2021-12-31 00:00:00+01:00   13.04       9339.0       9290.0\n2021-12-31 01:00:00+01:00  -35.50       8702.0       8670.0\n2021-12-31 02:00:00+01:00  -40.16       8294.0       8807.0\n2021-12-31 03:00:00+01:00  -28.00       8065.0       8050.0\n2021-12-31 04:00:00+01:00  -28.00       7987.0       8203.0\n...                           ...          ...          ...\n2022-01-31 19:00:00+01:00  259.34      12518.0      13887.0\n2022-01-31 20:00:00+01:00  220.00      11854.0      12979.0\n2022-01-31 21:00:00+01:00  228.31      11153.0      12538.0\n2022-01-31 22:00:00+01:00  228.97      10816.0      12526.0\n2022-01-31 23:00:00+01:00  225.40      10984.0      11917.0\n\n[768 rows x 3 columns]",
      "text/html": "<div>\n<style scoped>\n    .dataframe tbody tr th:only-of-type {\n        vertical-align: middle;\n    }\n\n    .dataframe tbody tr th {\n        vertical-align: top;\n    }\n\n    .dataframe thead th {\n        text-align: right;\n    }\n</style>\n<table border=\"1\" class=\"dataframe\">\n  <thead>\n    <tr style=\"text-align: right;\">\n      <th></th>\n      <th>Price</th>\n      <th>Exogenous 2</th>\n      <th>Exogenous 1</th>\n    </tr>\n  </thead>\n  <tbody>\n    <tr>\n      <th>2021-12-31 00:00:00+01:00</th>\n      <td>13.04</td>\n      <td>9339.0</td>\n      <td>9290.0</td>\n    </tr>\n    <tr>\n      <th>2021-12-31 01:00:00+01:00</th>\n      <td>-35.50</td>\n      <td>8702.0</td>\n      <td>8670.0</td>\n    </tr>\n    <tr>\n      <th>2021-12-31 02:00:00+01:00</th>\n      <td>-40.16</td>\n      <td>8294.0</td>\n      <td>8807.0</td>\n    </tr>\n    <tr>\n      <th>2021-12-31 03:00:00+01:00</th>\n      <td>-28.00</td>\n      <td>8065.0</td>\n      <td>8050.0</td>\n    </tr>\n    <tr>\n      <th>2021-12-31 04:00:00+01:00</th>\n      <td>-28.00</td>\n      <td>7987.0</td>\n      <td>8203.0</td>\n    </tr>\n    <tr>\n      <th>...</th>\n      <td>...</td>\n      <td>...</td>\n      <td>...</td>\n    </tr>\n    <tr>\n      <th>2022-01-31 19:00:00+01:00</th>\n      <td>259.34</td>\n      <td>12518.0</td>\n      <td>13887.0</td>\n    </tr>\n    <tr>\n      <th>2022-01-31 20:00:00+01:00</th>\n      <td>220.00</td>\n      <td>11854.0</td>\n      <td>12979.0</td>\n    </tr>\n    <tr>\n      <th>2022-01-31 21:00:00+01:00</th>\n      <td>228.31</td>\n      <td>11153.0</td>\n      <td>12538.0</td>\n    </tr>\n    <tr>\n      <th>2022-01-31 22:00:00+01:00</th>\n      <td>228.97</td>\n      <td>10816.0</td>\n      <td>12526.0</td>\n    </tr>\n    <tr>\n      <th>2022-01-31 23:00:00+01:00</th>\n      <td>225.40</td>\n      <td>10984.0</td>\n      <td>11917.0</td>\n    </tr>\n  </tbody>\n</table>\n<p>768 rows × 3 columns</p>\n</div>"
     },
     "execution_count": 4,
     "metadata": {},
     "output_type": "execute_result"
    }
   ],
   "source": [
    "df_test"
   ],
   "metadata": {
    "collapsed": false
   }
  },
  {
   "cell_type": "code",
   "execution_count": 1,
   "outputs": [],
   "source": [
    "from epftoolbox.data import read_data_refreshed"
   ],
   "metadata": {
    "collapsed": false
   }
  },
  {
   "cell_type": "code",
   "execution_count": 2,
   "outputs": [
    {
     "name": "stdout",
     "output_type": "stream",
     "text": [
      "Test datasets: 2021-12-31 00:00:00 - 2022-01-31 23:00:00\n"
     ]
    },
    {
     "name": "stderr",
     "output_type": "stream",
     "text": [
      "/Users/dorianfitton/Documents/Cours_Télécom/fil_rouge/fil_rouge/epftoolbox/data/_datasets.py:206: FutureWarning: Indexing a timezone-aware DatetimeIndex with a timezone-naive datetime is deprecated and will raise KeyError in a future version. Use a timezone-aware object instead.\n",
      "  df_train = df_all.loc[:begin_test_date - pd.Timedelta(hours=1), :]\n",
      "/Users/dorianfitton/Documents/Cours_Télécom/fil_rouge/fil_rouge/epftoolbox/data/_datasets.py:207: FutureWarning: Indexing a timezone-aware DatetimeIndex with a timezone-naive datetime is deprecated and will raise KeyError in a future version. Use a timezone-aware object instead.\n",
      "  df_test = df_all.loc[begin_test_date:end_test_date, :]\n"
     ]
    }
   ],
   "source": [
    "df_train, df_test = read_data_refreshed(begin_test_date='2021-12-31', end_test_date='2022-01-31')"
   ],
   "metadata": {
    "collapsed": false
   }
  },
  {
   "cell_type": "code",
   "execution_count": 3,
   "outputs": [
    {
     "data": {
      "text/plain": "                           Price  Exogenous 2  Exogenous 1\n2018-12-31 00:00:00+01:00  50.94       8675.0       5544.0\n2018-12-31 01:00:00+01:00  49.57       8560.0       4866.0\n2018-12-31 02:00:00+01:00  48.32       8204.0       4153.0\n2018-12-31 03:00:00+01:00  45.89       7965.0       4667.0\n2018-12-31 04:00:00+01:00  45.47       7911.0       4737.0\n...                          ...          ...          ...\n2021-12-30 19:00:00+01:00  50.57      10408.0      11382.0\n2021-12-30 20:00:00+01:00  94.18       9854.0      11280.0\n2021-12-30 21:00:00+01:00  46.26       9418.0       9849.0\n2021-12-30 22:00:00+01:00  10.83       9349.0       9270.0\n2021-12-30 23:00:00+01:00   0.82       9611.0       9510.0\n\n[26304 rows x 3 columns]",
      "text/html": "<div>\n<style scoped>\n    .dataframe tbody tr th:only-of-type {\n        vertical-align: middle;\n    }\n\n    .dataframe tbody tr th {\n        vertical-align: top;\n    }\n\n    .dataframe thead th {\n        text-align: right;\n    }\n</style>\n<table border=\"1\" class=\"dataframe\">\n  <thead>\n    <tr style=\"text-align: right;\">\n      <th></th>\n      <th>Price</th>\n      <th>Exogenous 2</th>\n      <th>Exogenous 1</th>\n    </tr>\n  </thead>\n  <tbody>\n    <tr>\n      <th>2018-12-31 00:00:00+01:00</th>\n      <td>50.94</td>\n      <td>8675.0</td>\n      <td>5544.0</td>\n    </tr>\n    <tr>\n      <th>2018-12-31 01:00:00+01:00</th>\n      <td>49.57</td>\n      <td>8560.0</td>\n      <td>4866.0</td>\n    </tr>\n    <tr>\n      <th>2018-12-31 02:00:00+01:00</th>\n      <td>48.32</td>\n      <td>8204.0</td>\n      <td>4153.0</td>\n    </tr>\n    <tr>\n      <th>2018-12-31 03:00:00+01:00</th>\n      <td>45.89</td>\n      <td>7965.0</td>\n      <td>4667.0</td>\n    </tr>\n    <tr>\n      <th>2018-12-31 04:00:00+01:00</th>\n      <td>45.47</td>\n      <td>7911.0</td>\n      <td>4737.0</td>\n    </tr>\n    <tr>\n      <th>...</th>\n      <td>...</td>\n      <td>...</td>\n      <td>...</td>\n    </tr>\n    <tr>\n      <th>2021-12-30 19:00:00+01:00</th>\n      <td>50.57</td>\n      <td>10408.0</td>\n      <td>11382.0</td>\n    </tr>\n    <tr>\n      <th>2021-12-30 20:00:00+01:00</th>\n      <td>94.18</td>\n      <td>9854.0</td>\n      <td>11280.0</td>\n    </tr>\n    <tr>\n      <th>2021-12-30 21:00:00+01:00</th>\n      <td>46.26</td>\n      <td>9418.0</td>\n      <td>9849.0</td>\n    </tr>\n    <tr>\n      <th>2021-12-30 22:00:00+01:00</th>\n      <td>10.83</td>\n      <td>9349.0</td>\n      <td>9270.0</td>\n    </tr>\n    <tr>\n      <th>2021-12-30 23:00:00+01:00</th>\n      <td>0.82</td>\n      <td>9611.0</td>\n      <td>9510.0</td>\n    </tr>\n  </tbody>\n</table>\n<p>26304 rows × 3 columns</p>\n</div>"
     },
     "execution_count": 3,
     "metadata": {},
     "output_type": "execute_result"
    }
   ],
   "source": [
    "df_train"
   ],
   "metadata": {
    "collapsed": false
   }
  },
  {
   "cell_type": "code",
   "execution_count": 7,
   "outputs": [
    {
     "data": {
      "text/plain": "Timestamp('2018-12-31 00:00:00+0100', tz='Europe/Brussels')"
     },
     "execution_count": 7,
     "metadata": {},
     "output_type": "execute_result"
    }
   ],
   "source": [
    "import pandas as pd\n",
    "pd.to_datetime(df_train.index[0])"
   ],
   "metadata": {
    "collapsed": false
   }
  },
  {
   "cell_type": "code",
   "execution_count": 17,
   "outputs": [
    {
     "ename": "AttributeError",
     "evalue": "'DatetimeIndex' object has no attribute 'apply'",
     "output_type": "error",
     "traceback": [
      "\u001B[0;31m---------------------------------------------------------------------------\u001B[0m",
      "\u001B[0;31mAttributeError\u001B[0m                            Traceback (most recent call last)",
      "Cell \u001B[0;32mIn[17], line 1\u001B[0m\n\u001B[0;32m----> 1\u001B[0m \u001B[43mdf_train\u001B[49m\u001B[38;5;241;43m.\u001B[39;49m\u001B[43mindex\u001B[49m\u001B[38;5;241;43m.\u001B[39;49m\u001B[43mapply\u001B[49m(\u001B[38;5;28;01mlambda\u001B[39;00m x: x\u001B[38;5;241m.\u001B[39mstrftime(\u001B[38;5;124m'\u001B[39m\u001B[38;5;124m%\u001B[39m\u001B[38;5;124mY-\u001B[39m\u001B[38;5;124m%\u001B[39m\u001B[38;5;124mm-\u001B[39m\u001B[38;5;132;01m%d\u001B[39;00m\u001B[38;5;124m \u001B[39m\u001B[38;5;124m%\u001B[39m\u001B[38;5;124mH:\u001B[39m\u001B[38;5;124m%\u001B[39m\u001B[38;5;124mM:\u001B[39m\u001B[38;5;124m%\u001B[39m\u001B[38;5;124mS\u001B[39m\u001B[38;5;124m'\u001B[39m))\n",
      "\u001B[0;31mAttributeError\u001B[0m: 'DatetimeIndex' object has no attribute 'apply'"
     ]
    }
   ],
   "source": [
    "df_train.index.apply(lambda x: x.strftime('%Y-%m-%d %H:%M:%S'))"
   ],
   "metadata": {
    "collapsed": false
   }
  },
  {
   "cell_type": "code",
   "execution_count": 30,
   "outputs": [
    {
     "ename": "AttributeError",
     "evalue": "'Index' object has no attribute 'strftime'",
     "output_type": "error",
     "traceback": [
      "\u001B[0;31m---------------------------------------------------------------------------\u001B[0m",
      "\u001B[0;31mAttributeError\u001B[0m                            Traceback (most recent call last)",
      "Cell \u001B[0;32mIn[30], line 1\u001B[0m\n\u001B[0;32m----> 1\u001B[0m df_train\u001B[38;5;241m.\u001B[39mindex \u001B[38;5;241m=\u001B[39m \u001B[43mdf_train\u001B[49m\u001B[38;5;241;43m.\u001B[39;49m\u001B[43mindex\u001B[49m\u001B[38;5;241;43m.\u001B[39;49m\u001B[43mstrftime\u001B[49m(\u001B[38;5;124m'\u001B[39m\u001B[38;5;124m%\u001B[39m\u001B[38;5;124mY-\u001B[39m\u001B[38;5;124m%\u001B[39m\u001B[38;5;124mm-\u001B[39m\u001B[38;5;132;01m%d\u001B[39;00m\u001B[38;5;124m \u001B[39m\u001B[38;5;124m%\u001B[39m\u001B[38;5;124mH:\u001B[39m\u001B[38;5;124m%\u001B[39m\u001B[38;5;124mM:\u001B[39m\u001B[38;5;124m%\u001B[39m\u001B[38;5;124mS\u001B[39m\u001B[38;5;124m'\u001B[39m)\n\u001B[1;32m      2\u001B[0m \u001B[38;5;66;03m#df_test.index = df_test.index.strftime('%Y-%m-%d %H:%M:%S')\u001B[39;00m\n",
      "\u001B[0;31mAttributeError\u001B[0m: 'Index' object has no attribute 'strftime'"
     ]
    }
   ],
   "source": [
    "df_train.index = df_train.index.strftime('%Y-%m-%d %H:%M:%S')\n",
    "#df_test.index = df_test.index.strftime('%Y-%m-%d %H:%M:%S')"
   ],
   "metadata": {
    "collapsed": false
   }
  },
  {
   "cell_type": "code",
   "execution_count": 20,
   "outputs": [],
   "source": [
    "df_test.index = df_test.index.strftime('%Y-%m-%d %H:%M:%S')"
   ],
   "metadata": {
    "collapsed": false
   }
  },
  {
   "cell_type": "code",
   "execution_count": 7,
   "outputs": [],
   "source": [
    "df_train=pd.read_pickle('/Users/dorianfitton/Documents/Cours_Télécom/fil_rouge/fil_rouge/notebook_projet/dorian/datasets/2021-12-31_test/2021-12-31_df_train')"
   ],
   "metadata": {
    "collapsed": false
   }
  },
  {
   "cell_type": "code",
   "execution_count": 11,
   "outputs": [
    {
     "data": {
      "text/plain": "Index(['2018-12-31 00:00:00', '2018-12-31 01:00:00', '2018-12-31 02:00:00',\n       '2018-12-31 03:00:00', '2018-12-31 04:00:00', '2018-12-31 05:00:00',\n       '2018-12-31 06:00:00', '2018-12-31 07:00:00', '2018-12-31 08:00:00',\n       '2018-12-31 09:00:00',\n       ...\n       '2021-12-30 14:00:00', '2021-12-30 15:00:00', '2021-12-30 16:00:00',\n       '2021-12-30 17:00:00', '2021-12-30 18:00:00', '2021-12-30 19:00:00',\n       '2021-12-30 20:00:00', '2021-12-30 21:00:00', '2021-12-30 22:00:00',\n       '2021-12-30 23:00:00'],\n      dtype='object', length=26313)"
     },
     "execution_count": 11,
     "metadata": {},
     "output_type": "execute_result"
    }
   ],
   "source": [
    "df_train.index"
   ],
   "metadata": {
    "collapsed": false
   }
  },
  {
   "cell_type": "code",
   "execution_count": 10,
   "outputs": [],
   "source": [
    "tstmp= ['2019-03-31 02:00:00','2020-03-29 02:00:00','2021-03-28 02:00:00']\n",
    "for ts in tstmp:\n",
    "    ts = pd.to_datetime(ts)\n",
    "    av = ts-timedelta(hours=1)\n",
    "    ap = ts+timedelta(hours=1)\n",
    "    price = (df_train['Price'].loc[str(av)]+df_train['Price'].loc[str(ap)])/2\n",
    "    exogenous_2 = (df_train['Exogenous 2'].loc[str(av)]+ df_train['Exogenous 2'].loc[str(ap)])/2\n",
    "    exogenous_1 = (df_train['Exogenous 1'].loc[str(av)]+ df_train['Exogenous 1'].loc[str(ap)])/2\n",
    "    new_row = pd.DataFrame([[price, exogenous_2, exogenous_1]], columns = [\"Price\", \"Exogenous 2\", \"Exogenous 1\"], index=[ts])\n",
    "    new_row.index = new_row.index.astype(str)\n",
    "    dfs=[df_train, new_row]\n",
    "    df_groups = {}\n",
    "\n",
    "    df_train=pd.concat(dfs)\n",
    "\n",
    "df_train=df_train.sort_index()"
   ],
   "metadata": {
    "collapsed": false
   }
  },
  {
   "cell_type": "code",
   "execution_count": 12,
   "outputs": [],
   "source": [
    "df_train.to_pickle('/Users/dorianfitton/Documents/Cours_Télécom/fil_rouge/fil_rouge/notebook_projet/dorian/datasets/2021-12-31_test/2021-12-31_df_train')\n",
    "#df_test.to_pickle('/Users/dorianfitton/Documents/Cours_Télécom/fil_rouge/fil_rouge/notebook_projet/dorian/datasets/2021-12-31_test/2021-12-31_df_test')"
   ],
   "metadata": {
    "collapsed": false
   }
  },
  {
   "cell_type": "code",
   "execution_count": null,
   "outputs": [],
   "source": [],
   "metadata": {
    "collapsed": false
   }
  }
 ],
 "metadata": {
  "kernelspec": {
   "name": "python3",
   "language": "python",
   "display_name": "Python 3 (ipykernel)"
  },
  "language_info": {
   "codemirror_mode": {
    "name": "ipython",
    "version": 3
   },
   "file_extension": ".py",
   "mimetype": "text/x-python",
   "name": "python",
   "nbconvert_exporter": "python",
   "pygments_lexer": "ipython3",
   "version": "3.10.4"
  }
 },
 "nbformat": 4,
 "nbformat_minor": 1
}
