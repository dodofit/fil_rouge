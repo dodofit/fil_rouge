{
 "cells": [
  {
   "cell_type": "code",
   "execution_count": 95,
   "metadata": {
    "collapsed": true
   },
   "outputs": [],
   "source": [
    "import requests\n",
    "from bs4 import BeautifulSoup\n",
    "import re\n",
    "from datetime import datetime\n",
    "import numpy as np\n",
    "import pandas as pd\n",
    "import re"
   ]
  },
  {
   "cell_type": "code",
   "execution_count": 79,
   "outputs": [
    {
     "name": "stdout",
     "output_type": "stream",
     "text": [
      "1\n",
      "2\n",
      "3\n",
      "4\n",
      "5\n",
      "6\n",
      "7\n",
      "8\n",
      "9\n",
      "10\n",
      "11\n",
      "12\n",
      "13\n",
      "14\n",
      "15\n",
      "16\n",
      "17\n",
      "18\n",
      "Erreur\n",
      "19\n",
      "Erreur\n",
      "20\n",
      "21\n",
      "22\n",
      "23\n",
      "24\n",
      "25\n",
      "26\n",
      "27\n",
      "28\n",
      "29\n",
      "Erreur\n",
      "30\n",
      "31\n",
      "Erreur\n",
      "32\n",
      "Erreur\n",
      "Erreur\n",
      "Erreur\n",
      "33\n",
      "34\n",
      "35\n",
      "Erreur\n",
      "36\n",
      "531\n"
     ]
    }
   ],
   "source": [
    "url= 'https://www.asn.fr/l-asn-controle/actualites-du-controle/installations-nucleaires/arret-de-reacteurs-de-centrales-nucleaires?page=1&publication_date_year%5Bfrom%5D=2011&publication_date_year%5Bto%5D=2022'\n",
    "request = requests.request('GET',url)\n",
    "soup = BeautifulSoup(request.content)\n",
    "nb_pages = int(soup.find_all('a',{'class': 'page-link'})[-2].text)\n",
    "list_rn = []\n",
    "art_tot = 1\n",
    "for i in range(1,nb_pages+1):\n",
    "    #print(i)\n",
    "    if i != 1:\n",
    "        url= 'https://www.asn.fr/l-asn-controle/actualites-du-controle/installations-nucleaires/arret-de-reacteurs-de-centrales-nucleaires?page={}&publication_date_year%5Bfrom%5D=2011&publication_date_year%5Bto%5D=2022'.format(i)\n",
    "        request = requests.request('GET',url)\n",
    "        soup = BeautifulSoup(request.content)\n",
    "    main_content = soup.find('div', id='main-content')\n",
    "    for art in range(len(main_content.find_all('span', {'class':'Tooltip-title'}))):\n",
    "        centrale = main_content.find_all('span', {'class':'Tooltip-title'})[art].text\n",
    "        reacteur = re.findall(r\"[0-9+]\",main_content.find_all('div', {'class':'eztext-field'})[art].text)[0]\n",
    "        #print(centrale, reacteur)\n",
    "        url= 'https://www.asn.fr' + main_content.find_all('a', attrs={'class':'Teaser-titleLink'})[art]['href']\n",
    "        request = requests.request('GET',url)\n",
    "        soup = BeautifulSoup(request.content)\n",
    "        try:\n",
    "            date_arret = soup.find_all('b')[0].text\n",
    "            date_redem = soup.find_all('b')[1].text\n",
    "            list_rn.append([centrale, reacteur, date_arret, date_redem])\n",
    "        except:\n",
    "            print('Erreur')\n",
    "\n",
    "        art_tot += 1\n",
    "\n",
    "#print(art_tot)\n",
    "ar_rn = np.array(list_rn)"
   ],
   "metadata": {
    "collapsed": false
   }
  },
  {
   "cell_type": "markdown",
   "source": [
    "Trouver le nombre de pages sur la page principale (1 à 36 au 10 Janvier 2023)\n",
    "Boucle : sur toutes les pages (reconnexion à des url)\n",
    "    Boucle: Pour chaque publication d'avis de maintenance\n",
    "        1ère étape : Scrappe la partie générale pour obtenir la centrales nucléaires, numéro de réacteur, url spécifique\n",
    "        2ème étape : aller sur l'url spécifique (reconnexion àn des url)"
   ],
   "metadata": {
    "collapsed": false
   }
  },
  {
   "cell_type": "code",
   "execution_count": 162,
   "outputs": [],
   "source": [
    "df_rn = pd.DataFrame(ar_rn, columns=['centrale_nucleaire','no_reacteur', 'date_arret', 'date_redem' ])"
   ],
   "metadata": {
    "collapsed": false
   }
  },
  {
   "cell_type": "code",
   "execution_count": 163,
   "outputs": [],
   "source": [
    "df_rn['centrale_nucleaire'] = df_rn['centrale_nucleaire'].apply(lambda x: x.lower())"
   ],
   "metadata": {
    "collapsed": false
   }
  },
  {
   "cell_type": "code",
   "execution_count": 164,
   "outputs": [],
   "source": [
    "#df_rn['centrale_nucleaire'].apply(lambda x: re.sub(r'({centrale nucléaire de})($)' , r'\\2', x))"
   ],
   "metadata": {
    "collapsed": false
   }
  },
  {
   "cell_type": "code",
   "execution_count": 165,
   "outputs": [],
   "source": [
    "df_rn['centrale_reacteur'] = df_rn['centrale_nucleaire']+'_reacteur_'+df_rn['no_reacteur']"
   ],
   "metadata": {
    "collapsed": false
   }
  },
  {
   "cell_type": "code",
   "execution_count": 166,
   "outputs": [],
   "source": [
    "df_rn = df_rn.drop(['centrale_nucleaire', 'no_reacteur'], axis=1)"
   ],
   "metadata": {
    "collapsed": false
   }
  },
  {
   "cell_type": "code",
   "execution_count": 167,
   "outputs": [
    {
     "name": "stderr",
     "output_type": "stream",
     "text": [
      "/var/folders/h9/3f0fc1qs2t3943x127_ynxmc0000gn/T/ipykernel_1051/3193698370.py:1: UserWarning: Parsing dates in DD/MM/YYYY format when dayfirst=False (the default) was specified. This may lead to inconsistently parsed dates! Specify a format to ensure consistent parsing.\n",
      "  df_rn['date_arret']=df_rn['date_arret'].apply(lambda x: pd.to_datetime(x))\n",
      "/var/folders/h9/3f0fc1qs2t3943x127_ynxmc0000gn/T/ipykernel_1051/3193698370.py:2: UserWarning: Parsing dates in DD/MM/YYYY format when dayfirst=False (the default) was specified. This may lead to inconsistently parsed dates! Specify a format to ensure consistent parsing.\n",
      "  df_rn['date_redem']=df_rn['date_redem'].apply(lambda x: pd.to_datetime(x))\n"
     ]
    }
   ],
   "source": [
    "df_rn['date_arret']=df_rn['date_arret'].apply(lambda x: pd.to_datetime(x))\n",
    "df_rn['date_redem']=df_rn['date_redem'].apply(lambda x: pd.to_datetime(x))"
   ],
   "metadata": {
    "collapsed": false
   }
  },
  {
   "cell_type": "code",
   "execution_count": 171,
   "outputs": [],
   "source": [
    "sort_ar=df_rn['date_arret'].sort_values().reset_index(drop=True)\n",
    "sort_red = df_rn['date_redem'].sort_values(ascending=False).reset_index(drop=True)"
   ],
   "metadata": {
    "collapsed": false
   }
  },
  {
   "cell_type": "code",
   "execution_count": 172,
   "outputs": [
    {
     "data": {
      "text/plain": "0     2038-01-19\n1     2038-01-18\n2     2022-12-19\n3     2022-12-18\n4     2022-12-16\n         ...    \n517   2011-01-12\n518   2010-12-29\n519   2010-10-19\n520   2010-05-21\n521   2010-02-11\nName: date_redem, Length: 522, dtype: datetime64[ns]"
     },
     "execution_count": 172,
     "metadata": {},
     "output_type": "execute_result"
    }
   ],
   "source": [
    "sort_red"
   ],
   "metadata": {
    "collapsed": false
   }
  },
  {
   "cell_type": "code",
   "execution_count": 235,
   "outputs": [],
   "source": [
    "#today = pd.to_datetime(\"today\")\n",
    "date_index = pd.date_range(start=sort_ar[0], end=sort_red[0], freq='D')\n",
    "date_index_hourly = pd.date_range(start=sort_ar[0], end=sort_red[0], freq='h')"
   ],
   "metadata": {
    "collapsed": false
   }
  },
  {
   "cell_type": "code",
   "execution_count": 238,
   "outputs": [
    {
     "data": {
      "text/plain": "DatetimeIndex(['2002-05-06 00:00:00', '2002-05-06 01:00:00',\n               '2002-05-06 02:00:00', '2002-05-06 03:00:00',\n               '2002-05-06 04:00:00', '2002-05-06 05:00:00',\n               '2002-05-06 06:00:00', '2002-05-06 07:00:00',\n               '2002-05-06 08:00:00', '2002-05-06 09:00:00',\n               ...\n               '2038-01-18 15:00:00', '2038-01-18 16:00:00',\n               '2038-01-18 17:00:00', '2038-01-18 18:00:00',\n               '2038-01-18 19:00:00', '2038-01-18 20:00:00',\n               '2038-01-18 21:00:00', '2038-01-18 22:00:00',\n               '2038-01-18 23:00:00', '2038-01-19 00:00:00'],\n              dtype='datetime64[ns]', length=313009, freq='H')"
     },
     "execution_count": 238,
     "metadata": {},
     "output_type": "execute_result"
    }
   ],
   "source": [
    "date_index_hourly"
   ],
   "metadata": {
    "collapsed": false
   }
  },
  {
   "cell_type": "code",
   "execution_count": 210,
   "outputs": [],
   "source": [
    "rn_off=[]\n",
    "for day in date_index:\n",
    "    check = (df_rn['date_arret']<day)&(day<df_rn['date_redem'])\n",
    "    ind = check.value_counts().index\n",
    "    if True in ind:\n",
    "        off = check.value_counts()[1]\n",
    "    else:\n",
    "        off=0\n",
    "    rn_off.append([day, off])\n",
    "rn_off_ar = np.array(rn_off)\n",
    "df_arr = pd.DataFrame(rn_off, columns=['date', 'reacteurs_off'])"
   ],
   "metadata": {
    "collapsed": false
   }
  },
  {
   "cell_type": "code",
   "execution_count": 231,
   "outputs": [
    {
     "data": {
      "text/plain": "           date  reacteurs_off\n7494 2022-11-11             12",
      "text/html": "<div>\n<style scoped>\n    .dataframe tbody tr th:only-of-type {\n        vertical-align: middle;\n    }\n\n    .dataframe tbody tr th {\n        vertical-align: top;\n    }\n\n    .dataframe thead th {\n        text-align: right;\n    }\n</style>\n<table border=\"1\" class=\"dataframe\">\n  <thead>\n    <tr style=\"text-align: right;\">\n      <th></th>\n      <th>date</th>\n      <th>reacteurs_off</th>\n    </tr>\n  </thead>\n  <tbody>\n    <tr>\n      <th>7494</th>\n      <td>2022-11-11</td>\n      <td>12</td>\n    </tr>\n  </tbody>\n</table>\n</div>"
     },
     "execution_count": 231,
     "metadata": {},
     "output_type": "execute_result"
    }
   ],
   "source": [
    "df_arr.loc[df_arr['date']==pd.to_datetime('11/11/2022')]"
   ],
   "metadata": {
    "collapsed": false
   }
  },
  {
   "cell_type": "code",
   "execution_count": 243,
   "outputs": [
    {
     "data": {
      "text/plain": "            date  reacteurs_off\n0     2002-05-06              0\n1     2002-05-07              1\n2     2002-05-08              1\n3     2002-05-09              1\n4     2002-05-10              1\n...          ...            ...\n13038 2038-01-15              2\n13039 2038-01-16              2\n13040 2038-01-17              2\n13041 2038-01-18              1\n13042 2038-01-19              0\n\n[13043 rows x 2 columns]",
      "text/html": "<div>\n<style scoped>\n    .dataframe tbody tr th:only-of-type {\n        vertical-align: middle;\n    }\n\n    .dataframe tbody tr th {\n        vertical-align: top;\n    }\n\n    .dataframe thead th {\n        text-align: right;\n    }\n</style>\n<table border=\"1\" class=\"dataframe\">\n  <thead>\n    <tr style=\"text-align: right;\">\n      <th></th>\n      <th>date</th>\n      <th>reacteurs_off</th>\n    </tr>\n  </thead>\n  <tbody>\n    <tr>\n      <th>0</th>\n      <td>2002-05-06</td>\n      <td>0</td>\n    </tr>\n    <tr>\n      <th>1</th>\n      <td>2002-05-07</td>\n      <td>1</td>\n    </tr>\n    <tr>\n      <th>2</th>\n      <td>2002-05-08</td>\n      <td>1</td>\n    </tr>\n    <tr>\n      <th>3</th>\n      <td>2002-05-09</td>\n      <td>1</td>\n    </tr>\n    <tr>\n      <th>4</th>\n      <td>2002-05-10</td>\n      <td>1</td>\n    </tr>\n    <tr>\n      <th>...</th>\n      <td>...</td>\n      <td>...</td>\n    </tr>\n    <tr>\n      <th>13038</th>\n      <td>2038-01-15</td>\n      <td>2</td>\n    </tr>\n    <tr>\n      <th>13039</th>\n      <td>2038-01-16</td>\n      <td>2</td>\n    </tr>\n    <tr>\n      <th>13040</th>\n      <td>2038-01-17</td>\n      <td>2</td>\n    </tr>\n    <tr>\n      <th>13041</th>\n      <td>2038-01-18</td>\n      <td>1</td>\n    </tr>\n    <tr>\n      <th>13042</th>\n      <td>2038-01-19</td>\n      <td>0</td>\n    </tr>\n  </tbody>\n</table>\n<p>13043 rows × 2 columns</p>\n</div>"
     },
     "execution_count": 243,
     "metadata": {},
     "output_type": "execute_result"
    }
   ],
   "source": [
    "df_arr"
   ],
   "metadata": {
    "collapsed": false
   }
  },
  {
   "cell_type": "code",
   "execution_count": 239,
   "outputs": [],
   "source": [
    "rn_off_hourly=[]\n",
    "for hour in date_index_hourly:\n",
    "    check = (df_rn['date_arret']<hour)&(hour<df_rn['date_redem'])\n",
    "    ind = check.value_counts().index\n",
    "    if True in ind:\n",
    "        off = check.value_counts()[1]\n",
    "    else:\n",
    "        off=0\n",
    "    rn_off_hourly.append([hour, off])\n",
    "rn_off_ar_h = np.array(rn_off_hourly)\n",
    "df_arr_hourly = pd.DataFrame(rn_off_hourly, columns=['date', 'reacteurs_off'])"
   ],
   "metadata": {
    "collapsed": false
   }
  },
  {
   "cell_type": "code",
   "execution_count": 240,
   "outputs": [
    {
     "data": {
      "text/plain": "                      date  reacteurs_off\n0      2002-05-06 00:00:00              0\n1      2002-05-06 01:00:00              1\n2      2002-05-06 02:00:00              1\n3      2002-05-06 03:00:00              1\n4      2002-05-06 04:00:00              1\n...                    ...            ...\n313004 2038-01-18 20:00:00              1\n313005 2038-01-18 21:00:00              1\n313006 2038-01-18 22:00:00              1\n313007 2038-01-18 23:00:00              1\n313008 2038-01-19 00:00:00              0\n\n[313009 rows x 2 columns]",
      "text/html": "<div>\n<style scoped>\n    .dataframe tbody tr th:only-of-type {\n        vertical-align: middle;\n    }\n\n    .dataframe tbody tr th {\n        vertical-align: top;\n    }\n\n    .dataframe thead th {\n        text-align: right;\n    }\n</style>\n<table border=\"1\" class=\"dataframe\">\n  <thead>\n    <tr style=\"text-align: right;\">\n      <th></th>\n      <th>date</th>\n      <th>reacteurs_off</th>\n    </tr>\n  </thead>\n  <tbody>\n    <tr>\n      <th>0</th>\n      <td>2002-05-06 00:00:00</td>\n      <td>0</td>\n    </tr>\n    <tr>\n      <th>1</th>\n      <td>2002-05-06 01:00:00</td>\n      <td>1</td>\n    </tr>\n    <tr>\n      <th>2</th>\n      <td>2002-05-06 02:00:00</td>\n      <td>1</td>\n    </tr>\n    <tr>\n      <th>3</th>\n      <td>2002-05-06 03:00:00</td>\n      <td>1</td>\n    </tr>\n    <tr>\n      <th>4</th>\n      <td>2002-05-06 04:00:00</td>\n      <td>1</td>\n    </tr>\n    <tr>\n      <th>...</th>\n      <td>...</td>\n      <td>...</td>\n    </tr>\n    <tr>\n      <th>313004</th>\n      <td>2038-01-18 20:00:00</td>\n      <td>1</td>\n    </tr>\n    <tr>\n      <th>313005</th>\n      <td>2038-01-18 21:00:00</td>\n      <td>1</td>\n    </tr>\n    <tr>\n      <th>313006</th>\n      <td>2038-01-18 22:00:00</td>\n      <td>1</td>\n    </tr>\n    <tr>\n      <th>313007</th>\n      <td>2038-01-18 23:00:00</td>\n      <td>1</td>\n    </tr>\n    <tr>\n      <th>313008</th>\n      <td>2038-01-19 00:00:00</td>\n      <td>0</td>\n    </tr>\n  </tbody>\n</table>\n<p>313009 rows × 2 columns</p>\n</div>"
     },
     "execution_count": 240,
     "metadata": {},
     "output_type": "execute_result"
    }
   ],
   "source": [
    "df_arr_hourly"
   ],
   "metadata": {
    "collapsed": false
   }
  },
  {
   "cell_type": "code",
   "execution_count": null,
   "outputs": [],
   "source": [],
   "metadata": {
    "collapsed": false
   }
  }
 ],
 "metadata": {
  "kernelspec": {
   "display_name": "Python 3",
   "language": "python",
   "name": "python3"
  },
  "language_info": {
   "codemirror_mode": {
    "name": "ipython",
    "version": 2
   },
   "file_extension": ".py",
   "mimetype": "text/x-python",
   "name": "python",
   "nbconvert_exporter": "python",
   "pygments_lexer": "ipython2",
   "version": "2.7.6"
  }
 },
 "nbformat": 4,
 "nbformat_minor": 0
}
