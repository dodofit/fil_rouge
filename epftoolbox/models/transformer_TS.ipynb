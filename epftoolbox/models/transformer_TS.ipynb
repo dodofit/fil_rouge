{
 "cells": [
  {
   "cell_type": "code",
   "execution_count": 2,
   "metadata": {},
   "outputs": [
    {
     "name": "stderr",
     "output_type": "stream",
     "text": [
      "/Users/dorianfitton/opt/anaconda3/envs/bgd/lib/python3.10/site-packages/requests/__init__.py:102: RequestsDependencyWarning: urllib3 (1.26.11) or chardet (5.0.0)/charset_normalizer (2.0.4) doesn't match a supported version!\n",
      "  warnings.warn(\"urllib3 ({}) or chardet ({})/charset_normalizer ({}) doesn't match a supported \"\n",
      "/Users/dorianfitton/opt/anaconda3/envs/bgd/lib/python3.10/site-packages/scipy/__init__.py:146: UserWarning: A NumPy version >=1.16.5 and <1.23.0 is required for this version of SciPy (detected version 1.24.1\n",
      "  warnings.warn(f\"A NumPy version >={np_minversion} and <{np_maxversion}\"\n"
     ]
    }
   ],
   "source": [
    "import torch\n",
    "import pandas as pd\n",
    "from datasets import Dataset, load_dataset\n",
    "from transformers import TimeSeriesTransformerConfig, TimeSeriesTransformerModel, TimeSeriesTransformerForPrediction\n",
    "import numpy as np\n",
    "import os "
   ]
  },
  {
   "cell_type": "code",
   "execution_count": 3,
   "metadata": {},
   "outputs": [
    {
     "name": "stdout",
     "output_type": "stream",
     "text": [
      "Transformer csv already exists\n"
     ]
    }
   ],
   "source": [
    "if not os.path.exists('/Users/dorianfitton/Library/Mobile Documents/com~apple~CloudDocs/Documents/Cours_Télécom/fil_rouge/fil_rouge.nosync/examples/datasets/EPEX_FR_2_transformer.csv'):\n",
    "\n",
    "    df = pd.read_csv(\"/Users/dorianfitton/Library/Mobile Documents/com~apple~CloudDocs/Documents/Cours_Télécom/fil_rouge/fil_rouge.nosync/examples/datasets/EPEX_FR_NEW_UTC.csv\")\n",
    "    df['Date'] = pd.to_datetime(df['Date'])\n",
    "    # Create features for positional encoding \n",
    "    df['Hour of the day'] = df['Date'].dt.hour\n",
    "    df['Day of the week'] = df['Date'].dt.dayofweek\n",
    "    df['Day of the year'] = df['Date'].dt.dayofyear\n",
    "    df['Year'] = df['Date'].dt.year\n",
    "    df['Month of the year'] = df['Date'].dt.month\n",
    "    print(df.head())\n",
    "\n",
    "    df.to_csv(\"/Users/dorianfitton/Library/Mobile Documents/com~apple~CloudDocs/Documents/Cours_Télécom/fil_rouge/fil_rouge.nosync/examples/datasets/EPEX_FR_2_transformer.csv\")\n",
    "    print(\"CSV done and saved\")\n",
    "\n",
    "else:\n",
    "    print(\"Transformer csv already exists\")"
   ]
  },
  {
   "cell_type": "code",
   "execution_count": 4,
   "metadata": {},
   "outputs": [
    {
     "data": {
      "text/html": [
       "<div>\n",
       "<style scoped>\n",
       "    .dataframe tbody tr th:only-of-type {\n",
       "        vertical-align: middle;\n",
       "    }\n",
       "\n",
       "    .dataframe tbody tr th {\n",
       "        vertical-align: top;\n",
       "    }\n",
       "\n",
       "    .dataframe thead th {\n",
       "        text-align: right;\n",
       "    }\n",
       "</style>\n",
       "<table border=\"1\" class=\"dataframe\">\n",
       "  <thead>\n",
       "    <tr style=\"text-align: right;\">\n",
       "      <th></th>\n",
       "      <th>Unnamed: 0</th>\n",
       "      <th>Date</th>\n",
       "      <th>Load forecast</th>\n",
       "      <th>Generation forecast</th>\n",
       "      <th>Price</th>\n",
       "      <th>Hour of the day</th>\n",
       "      <th>Day of the week</th>\n",
       "      <th>Day of the year</th>\n",
       "      <th>Year</th>\n",
       "      <th>Month of the year</th>\n",
       "    </tr>\n",
       "  </thead>\n",
       "  <tbody>\n",
       "    <tr>\n",
       "      <th>0</th>\n",
       "      <td>0</td>\n",
       "      <td>2017-01-01 00:00:00</td>\n",
       "      <td>73650.0</td>\n",
       "      <td>69539.0</td>\n",
       "      <td>58.23</td>\n",
       "      <td>0</td>\n",
       "      <td>6</td>\n",
       "      <td>1</td>\n",
       "      <td>2017</td>\n",
       "      <td>1</td>\n",
       "    </tr>\n",
       "    <tr>\n",
       "      <th>1</th>\n",
       "      <td>1</td>\n",
       "      <td>2017-01-01 01:00:00</td>\n",
       "      <td>72350.0</td>\n",
       "      <td>67376.0</td>\n",
       "      <td>51.95</td>\n",
       "      <td>1</td>\n",
       "      <td>6</td>\n",
       "      <td>1</td>\n",
       "      <td>2017</td>\n",
       "      <td>1</td>\n",
       "    </tr>\n",
       "    <tr>\n",
       "      <th>2</th>\n",
       "      <td>2</td>\n",
       "      <td>2017-01-01 02:00:00</td>\n",
       "      <td>68750.0</td>\n",
       "      <td>65412.0</td>\n",
       "      <td>47.27</td>\n",
       "      <td>2</td>\n",
       "      <td>6</td>\n",
       "      <td>1</td>\n",
       "      <td>2017</td>\n",
       "      <td>1</td>\n",
       "    </tr>\n",
       "    <tr>\n",
       "      <th>3</th>\n",
       "      <td>3</td>\n",
       "      <td>2017-01-01 03:00:00</td>\n",
       "      <td>65900.0</td>\n",
       "      <td>64557.0</td>\n",
       "      <td>45.49</td>\n",
       "      <td>3</td>\n",
       "      <td>6</td>\n",
       "      <td>1</td>\n",
       "      <td>2017</td>\n",
       "      <td>1</td>\n",
       "    </tr>\n",
       "    <tr>\n",
       "      <th>4</th>\n",
       "      <td>4</td>\n",
       "      <td>2017-01-01 04:00:00</td>\n",
       "      <td>65000.0</td>\n",
       "      <td>64552.0</td>\n",
       "      <td>44.50</td>\n",
       "      <td>4</td>\n",
       "      <td>6</td>\n",
       "      <td>1</td>\n",
       "      <td>2017</td>\n",
       "      <td>1</td>\n",
       "    </tr>\n",
       "  </tbody>\n",
       "</table>\n",
       "</div>"
      ],
      "text/plain": [
       "   Unnamed: 0                Date  Load forecast  Generation forecast  Price  \\\n",
       "0           0 2017-01-01 00:00:00        73650.0              69539.0  58.23   \n",
       "1           1 2017-01-01 01:00:00        72350.0              67376.0  51.95   \n",
       "2           2 2017-01-01 02:00:00        68750.0              65412.0  47.27   \n",
       "3           3 2017-01-01 03:00:00        65900.0              64557.0  45.49   \n",
       "4           4 2017-01-01 04:00:00        65000.0              64552.0  44.50   \n",
       "\n",
       "   Hour of the day  Day of the week  Day of the year  Year  Month of the year  \n",
       "0                0                6                1  2017                  1  \n",
       "1                1                6                1  2017                  1  \n",
       "2                2                6                1  2017                  1  \n",
       "3                3                6                1  2017                  1  \n",
       "4                4                6                1  2017                  1  "
      ]
     },
     "execution_count": 4,
     "metadata": {},
     "output_type": "execute_result"
    }
   ],
   "source": [
    "df = pd.read_csv(\"/Users/dorianfitton/Library/Mobile Documents/com~apple~CloudDocs/Documents/Cours_Télécom/fil_rouge/fil_rouge.nosync/examples/datasets/EPEX_FR_2_transformer.csv\")\n",
    "df['Date'] = pd.to_datetime(df['Date'])\n",
    "dataset = Dataset.from_pandas(df)\n",
    "df.head()"
   ]
  },
  {
   "cell_type": "code",
   "execution_count": 5,
   "metadata": {},
   "outputs": [],
   "source": [
    "device = torch.device(\"cpu\")"
   ]
  },
  {
   "cell_type": "code",
   "execution_count": 6,
   "metadata": {},
   "outputs": [],
   "source": [
    "# Choix des paramètres \n",
    "nb_time_feat = 7\n",
    "context = 90"
   ]
  },
  {
   "cell_type": "code",
   "execution_count": 7,
   "metadata": {},
   "outputs": [
    {
     "data": {
      "application/vnd.jupyter.widget-view+json": {
       "model_id": "410dd48d1df44a3f99e74f6ea3c758af",
       "version_major": 2,
       "version_minor": 0
      },
      "text/plain": [
       "Filter:   0%|          | 0/52584 [00:00<?, ? examples/s]"
      ]
     },
     "metadata": {},
     "output_type": "display_data"
    }
   ],
   "source": [
    "\n",
    "# Séparation du dataset en données de test et train (pas nécessaire)\n",
    "train_dataset = dataset.filter(lambda x: x['Date'].year < 2021)\n",
    "#test_dataset = dataset.filter(lambda x: x['Date'].date() == pd.to_datetime('2021-01-01').date())"
   ]
  },
  {
   "cell_type": "code",
   "execution_count": 8,
   "metadata": {},
   "outputs": [
    {
     "data": {
      "application/vnd.jupyter.widget-view+json": {
       "model_id": "6560b27a5ff74e839219f8f7e9d8aaa3",
       "version_major": 2,
       "version_minor": 0
      },
      "text/plain": [
       "Filter:   0%|          | 0/35064 [00:00<?, ? examples/s]"
      ]
     },
     "metadata": {},
     "output_type": "display_data"
    },
    {
     "name": "stdout",
     "output_type": "stream",
     "text": [
      "past_dataset shape:  (2160, 10)\n"
     ]
    },
    {
     "data": {
      "application/vnd.jupyter.widget-view+json": {
       "model_id": "c85d653985ed4f52a41bf0a516ada791",
       "version_major": 2,
       "version_minor": 0
      },
      "text/plain": [
       "Filter:   0%|          | 0/35064 [00:00<?, ? examples/s]"
      ]
     },
     "metadata": {},
     "output_type": "display_data"
    },
    {
     "name": "stdout",
     "output_type": "stream",
     "text": [
      "future_dataset shape:  (24, 10)\n"
     ]
    }
   ],
   "source": [
    "# On fait la prédiction à partir de la première date \n",
    "date = train_dataset['Date'][24*context].date()\n",
    "\n",
    "# On sépare les données d'entrainement et les données de test (ici on a un jour de test)\n",
    "\n",
    "past_dataset = train_dataset.filter(lambda x: x['Date'].date() < date)\n",
    "print(\"past_dataset shape: \", past_dataset.shape)\n",
    "\n",
    "future_dataset = train_dataset.filter(lambda x: x['Date'].date() == date)\n",
    "print(\"future_dataset shape: \", future_dataset.shape)"
   ]
  },
  {
   "cell_type": "code",
   "execution_count": 9,
   "metadata": {},
   "outputs": [
    {
     "name": "stdout",
     "output_type": "stream",
     "text": [
      "past_observed_mask shape: torch.Size([1, 2160])\n"
     ]
    }
   ],
   "source": [
    "# On définit quelles vont être les données utilisées/suprimées pour l'entrainement en utilisant un masque (en cas de données manquantes / NaN)\n",
    "past_observed_mask = torch.ones(24*context).reshape(1, -1)\n",
    "print(\"past_observed_mask shape:\",past_observed_mask.shape)"
   ]
  },
  {
   "cell_type": "code",
   "execution_count": 10,
   "metadata": {},
   "outputs": [
    {
     "name": "stdout",
     "output_type": "stream",
     "text": [
      "past_time_features shape: torch.Size([1, 2160, 7])\n",
      "future_time_features shape: torch.Size([1, 24, 7])\n"
     ]
    }
   ],
   "source": [
    "# On définit la matrice des features (variables exogènes et positional encoding) sur les données d'entrainement et les données de test\n",
    "\n",
    "past_time_features = torch.tensor(list(zip(past_dataset['Day of the week'],\n",
    "                                           past_dataset['Hour of the day'],\n",
    "                                           past_dataset['Day of the year'],\n",
    "                                           past_dataset['Year'],\n",
    "                                           past_dataset['Month of the year'],\n",
    "                                           past_dataset['Load forecast'],\n",
    "                                           past_dataset['Generation forecast'])))\\\n",
    "                                          .reshape(1, -1, nb_time_feat)\n",
    "\n",
    "print(\"past_time_features shape:\", past_time_features.shape)\n",
    "\n",
    "future_time_features = torch.tensor(list(zip(future_dataset['Day of the week'],\n",
    "                                             future_dataset['Hour of the day'],\n",
    "                                             future_dataset['Day of the year'],\n",
    "                                             future_dataset['Year'],\n",
    "                                             future_dataset['Month of the year'],\n",
    "                                             future_dataset['Load forecast'],\n",
    "                                             future_dataset['Generation forecast'])))\\\n",
    "                                             .reshape(1, -1, nb_time_feat)\n",
    "print(\"future_time_features shape:\",future_time_features.shape)"
   ]
  },
  {
   "cell_type": "code",
   "execution_count": 11,
   "metadata": {},
   "outputs": [
    {
     "name": "stdout",
     "output_type": "stream",
     "text": [
      "past_values shape: torch.Size([1, 2160])\n",
      "future_values shape: torch.Size([1, 24])\n"
     ]
    }
   ],
   "source": [
    "# On définit les valeurs de la variable endogène pour les données d'entrainement et pour les données de test\n",
    "\n",
    "past_values = torch.tensor(past_dataset['Price']).reshape(1, -1)\n",
    "print(\"past_values shape:\",past_values.shape)\n",
    "\n",
    "future_values = torch.tensor(future_dataset['Price']).reshape(1, -1)\n",
    "print(\"future_values shape:\",future_values.shape)"
   ]
  },
  {
   "cell_type": "code",
   "execution_count": 12,
   "metadata": {},
   "outputs": [
    {
     "name": "stdout",
     "output_type": "stream",
     "text": [
      "past_time_features shape: torch.Size([1, 2160, 7])\n",
      "past_values shape: torch.Size([1, 2160])\n",
      "past_observed_mask shape: torch.Size([1, 2160])\n",
      "future_time_features shape: torch.Size([1, 24, 7])\n",
      "future_values shape: torch.Size([1, 24])\n"
     ]
    }
   ],
   "source": [
    "# On transfert les matrices vers le gpu \n",
    "past_values = past_values.to(device)\n",
    "past_time_features = past_time_features.to(device)\n",
    "past_observed_mask = past_observed_mask.to(device)\n",
    "future_values = future_values.to(device)\n",
    "future_time_features = future_time_features.to(device)\n",
    "\n",
    "print(\"past_time_features shape:\", past_time_features.shape)\n",
    "print(\"past_values shape:\",past_values.shape)\n",
    "print(\"past_observed_mask shape:\",past_observed_mask.shape)\n",
    "\n",
    "print(\"future_time_features shape:\",future_time_features.shape)\n",
    "print(\"future_values shape:\",future_values.shape)"
   ]
  },
  {
   "cell_type": "code",
   "execution_count": 13,
   "metadata": {},
   "outputs": [],
   "source": [
    "# Initializing a Time Series Transformer configuration with 24 time steps for prediction\n",
    "configuration = TimeSeriesTransformerConfig(prediction_length   = 24, \n",
    "                                            context_length      = 24 * (context-1) + 17, \n",
    "                                            input_size          = 1, \n",
    "                                            output_size         = 1, \n",
    "                                            num_time_features   = nb_time_feat )\n",
    "\n",
    "# Randomly initializing a model (with random weights) from the configuration\n",
    "model = TimeSeriesTransformerForPrediction(configuration)\n",
    "\n",
    "# Accessing the model configuration\n",
    "configuration = model.config\n",
    "model = model.to(device)\n",
    "\n",
    "\n",
    "\n",
    "# during training, one provides both past and future values\n",
    "# as well as possible additional features\n",
    "outputs = model(\n",
    "    past_values=past_values,\n",
    "    past_time_features=past_time_features,\n",
    "    past_observed_mask=past_observed_mask,\n",
    "    future_values=future_values,\n",
    "    future_time_features=future_time_features\n",
    ")\n",
    "\n",
    "loss = outputs.loss\n",
    "loss.backward()\n",
    "\n",
    "# during inference, one only provides past values\n",
    "# as well as possible additional features\n",
    "# the model autoregressively generates future values\n",
    "outputs = model.generate(\n",
    "    past_values=past_values,\n",
    "    past_time_features=past_time_features,\n",
    "    past_observed_mask=past_observed_mask,\n",
    "    future_time_features=future_time_features\n",
    ")\n"
   ]
  },
  {
   "cell_type": "code",
   "execution_count": 14,
   "metadata": {},
   "outputs": [
    {
     "data": {
      "text/html": [
       "<div>\n",
       "<style scoped>\n",
       "    .dataframe tbody tr th:only-of-type {\n",
       "        vertical-align: middle;\n",
       "    }\n",
       "\n",
       "    .dataframe tbody tr th {\n",
       "        vertical-align: top;\n",
       "    }\n",
       "\n",
       "    .dataframe thead th {\n",
       "        text-align: right;\n",
       "    }\n",
       "</style>\n",
       "<table border=\"1\" class=\"dataframe\">\n",
       "  <thead>\n",
       "    <tr style=\"text-align: right;\">\n",
       "      <th></th>\n",
       "      <th>0</th>\n",
       "      <th>1</th>\n",
       "      <th>2</th>\n",
       "      <th>3</th>\n",
       "      <th>4</th>\n",
       "      <th>5</th>\n",
       "      <th>6</th>\n",
       "      <th>7</th>\n",
       "      <th>8</th>\n",
       "      <th>9</th>\n",
       "      <th>...</th>\n",
       "      <th>14</th>\n",
       "      <th>15</th>\n",
       "      <th>16</th>\n",
       "      <th>17</th>\n",
       "      <th>18</th>\n",
       "      <th>19</th>\n",
       "      <th>20</th>\n",
       "      <th>21</th>\n",
       "      <th>22</th>\n",
       "      <th>23</th>\n",
       "    </tr>\n",
       "  </thead>\n",
       "  <tbody>\n",
       "    <tr>\n",
       "      <th>0</th>\n",
       "      <td>-13.782734</td>\n",
       "      <td>-26.099804</td>\n",
       "      <td>-3.193981</td>\n",
       "      <td>-14.078363</td>\n",
       "      <td>-12.001953</td>\n",
       "      <td>-3.627244</td>\n",
       "      <td>-12.409479</td>\n",
       "      <td>-21.700716</td>\n",
       "      <td>-15.958526</td>\n",
       "      <td>0.644061</td>\n",
       "      <td>...</td>\n",
       "      <td>-1.341909</td>\n",
       "      <td>14.395869</td>\n",
       "      <td>4.388855</td>\n",
       "      <td>-2.381189</td>\n",
       "      <td>-19.363369</td>\n",
       "      <td>3.30722</td>\n",
       "      <td>-28.608604</td>\n",
       "      <td>-3.585922</td>\n",
       "      <td>5.668192</td>\n",
       "      <td>0.359775</td>\n",
       "    </tr>\n",
       "  </tbody>\n",
       "</table>\n",
       "<p>1 rows × 24 columns</p>\n",
       "</div>"
      ],
      "text/plain": [
       "          0          1         2          3          4         5          6   \\\n",
       "0 -13.782734 -26.099804 -3.193981 -14.078363 -12.001953 -3.627244 -12.409479   \n",
       "\n",
       "          7          8         9   ...        14         15        16  \\\n",
       "0 -21.700716 -15.958526  0.644061  ... -1.341909  14.395869  4.388855   \n",
       "\n",
       "         17         18       19         20        21        22        23  \n",
       "0 -2.381189 -19.363369  3.30722 -28.608604 -3.585922  5.668192  0.359775  \n",
       "\n",
       "[1 rows x 24 columns]"
      ]
     },
     "execution_count": 14,
     "metadata": {},
     "output_type": "execute_result"
    }
   ],
   "source": [
    "mean_prediction = outputs.sequences.mean(dim=1).detach().cpu()\n",
    "df_pred = pd.DataFrame(mean_prediction.numpy())\n",
    "df_pred\n",
    "\n",
    "#df_pred.to_csv('/Users/dorianfitton/Library/Mobile Documents/com~apple~CloudDocs/Documents/Cours_Télécom/fil_rouge/fil_rouge.nosync/forecasts/transformer_pred.csv')"
   ]
  },
  {
   "cell_type": "code",
   "execution_count": 15,
   "metadata": {},
   "outputs": [
    {
     "data": {
      "text/plain": [
       "399043"
      ]
     },
     "execution_count": 15,
     "metadata": {},
     "output_type": "execute_result"
    }
   ],
   "source": [
    "model.num_parameters()"
   ]
  },
  {
   "cell_type": "code",
   "execution_count": 16,
   "metadata": {},
   "outputs": [
    {
     "data": {
      "text/plain": [
       "TimeSeriesTransformerForPrediction(\n",
       "  (model): TimeSeriesTransformerModel(\n",
       "    (scaler): TimeSeriesMeanScaler()\n",
       "    (encoder): TimeSeriesTransformerEncoder(\n",
       "      (value_embedding): TimeSeriesValueEmbedding(\n",
       "        (value_projection): Linear(in_features=16, out_features=64, bias=False)\n",
       "      )\n",
       "      (embed_positions): TimeSeriesSinusoidalPositionalEmbedding(2177, 64)\n",
       "      (layers): ModuleList(\n",
       "        (0-1): 2 x TimeSeriesTransformerEncoderLayer(\n",
       "          (self_attn): TimeSeriesTransformerAttention(\n",
       "            (k_proj): Linear(in_features=64, out_features=64, bias=True)\n",
       "            (v_proj): Linear(in_features=64, out_features=64, bias=True)\n",
       "            (q_proj): Linear(in_features=64, out_features=64, bias=True)\n",
       "            (out_proj): Linear(in_features=64, out_features=64, bias=True)\n",
       "          )\n",
       "          (self_attn_layer_norm): LayerNorm((64,), eps=1e-05, elementwise_affine=True)\n",
       "          (activation_fn): GELUActivation()\n",
       "          (fc1): Linear(in_features=64, out_features=32, bias=True)\n",
       "          (fc2): Linear(in_features=32, out_features=64, bias=True)\n",
       "          (final_layer_norm): LayerNorm((64,), eps=1e-05, elementwise_affine=True)\n",
       "        )\n",
       "      )\n",
       "      (layernorm_embedding): LayerNorm((64,), eps=1e-05, elementwise_affine=True)\n",
       "    )\n",
       "    (decoder): TimeSeriesTransformerDecoder(\n",
       "      (value_embedding): TimeSeriesValueEmbedding(\n",
       "        (value_projection): Linear(in_features=16, out_features=64, bias=False)\n",
       "      )\n",
       "      (embed_positions): TimeSeriesSinusoidalPositionalEmbedding(2177, 64)\n",
       "      (layers): ModuleList(\n",
       "        (0-1): 2 x TimeSeriesTransformerDecoderLayer(\n",
       "          (self_attn): TimeSeriesTransformerAttention(\n",
       "            (k_proj): Linear(in_features=64, out_features=64, bias=True)\n",
       "            (v_proj): Linear(in_features=64, out_features=64, bias=True)\n",
       "            (q_proj): Linear(in_features=64, out_features=64, bias=True)\n",
       "            (out_proj): Linear(in_features=64, out_features=64, bias=True)\n",
       "          )\n",
       "          (activation_fn): GELUActivation()\n",
       "          (self_attn_layer_norm): LayerNorm((64,), eps=1e-05, elementwise_affine=True)\n",
       "          (encoder_attn): TimeSeriesTransformerAttention(\n",
       "            (k_proj): Linear(in_features=64, out_features=64, bias=True)\n",
       "            (v_proj): Linear(in_features=64, out_features=64, bias=True)\n",
       "            (q_proj): Linear(in_features=64, out_features=64, bias=True)\n",
       "            (out_proj): Linear(in_features=64, out_features=64, bias=True)\n",
       "          )\n",
       "          (encoder_attn_layer_norm): LayerNorm((64,), eps=1e-05, elementwise_affine=True)\n",
       "          (fc1): Linear(in_features=64, out_features=32, bias=True)\n",
       "          (fc2): Linear(in_features=32, out_features=64, bias=True)\n",
       "          (final_layer_norm): LayerNorm((64,), eps=1e-05, elementwise_affine=True)\n",
       "        )\n",
       "      )\n",
       "      (layernorm_embedding): LayerNorm((64,), eps=1e-05, elementwise_affine=True)\n",
       "    )\n",
       "  )\n",
       "  (parameter_projection): ParameterProjection(\n",
       "    (proj): ModuleList(\n",
       "      (0-2): 3 x Linear(in_features=64, out_features=1, bias=True)\n",
       "    )\n",
       "    (domain_map): LambdaLayer()\n",
       "  )\n",
       ")"
      ]
     },
     "execution_count": 16,
     "metadata": {},
     "output_type": "execute_result"
    }
   ],
   "source": [
    "model"
   ]
  },
  {
   "cell_type": "code",
   "execution_count": 23,
   "metadata": {},
   "outputs": [],
   "source": [
    "from huggingface_hub import hf_hub_download\n",
    "import torch\n",
    "from transformers import TimeSeriesTransformerForPrediction\n",
    "\n",
    "file = hf_hub_download(\n",
    "    repo_id=\"kashif/tourism-monthly-batch\", filename=\"train-batch.pt\", repo_type=\"dataset\"\n",
    ")\n",
    "batch = torch.load(file)\n",
    "\n",
    "model = TimeSeriesTransformerForPrediction.from_pretrained(\n",
    "    \"huggingface/time-series-transformer-tourism-monthly\"\n",
    ")\n",
    "\n",
    "# during training, one provides both past and future values\n",
    "# as well as possible additional features\n",
    "outputs = model(\n",
    "    past_values=batch[\"past_values\"],\n",
    "    past_time_features=batch[\"past_time_features\"],\n",
    "    past_observed_mask=batch[\"past_observed_mask\"],\n",
    "    static_categorical_features=batch[\"static_categorical_features\"],\n",
    "    static_real_features=batch[\"static_real_features\"],\n",
    "    future_values=batch[\"future_values\"],\n",
    "    future_time_features=batch[\"future_time_features\"],\n",
    ")\n",
    "\n",
    "loss = outputs.loss\n",
    "loss.backward()\n",
    "\n",
    "# during inference, one only provides past values\n",
    "# as well as possible additional features\n",
    "# the model autoregressively generates future values\n",
    "outputs = model.generate(\n",
    "    past_values=batch[\"past_values\"],\n",
    "    past_time_features=batch[\"past_time_features\"],\n",
    "    past_observed_mask=batch[\"past_observed_mask\"],\n",
    "    static_categorical_features=batch[\"static_categorical_features\"],\n",
    "    static_real_features=batch[\"static_real_features\"],\n",
    "    future_time_features=batch[\"future_time_features\"],\n",
    ")\n",
    "\n",
    "mean_prediction = outputs.sequences.mean(dim=1)"
   ]
  },
  {
   "cell_type": "code",
   "execution_count": null,
   "metadata": {},
   "outputs": [
    {
     "data": {
      "text/plain": [
       "torch.Size([64, 61, 2])"
      ]
     },
     "metadata": {},
     "output_type": "display_data"
    }
   ],
   "source": [
    "batch['past_time_features'].shape"
   ]
  }
 ],
 "metadata": {
  "kernelspec": {
   "display_name": "frtr2",
   "language": "python",
   "name": "python3"
  },
  "language_info": {
   "codemirror_mode": {
    "name": "ipython",
    "version": 3
   },
   "file_extension": ".py",
   "mimetype": "text/x-python",
   "name": "python",
   "nbconvert_exporter": "python",
   "pygments_lexer": "ipython3",
   "version": "3.10.4"
  },
  "orig_nbformat": 4
 },
 "nbformat": 4,
 "nbformat_minor": 2
}
